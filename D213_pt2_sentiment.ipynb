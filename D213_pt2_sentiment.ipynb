{
 "cells": [
  {
   "metadata": {},
   "cell_type": "markdown",
   "source": [
    "# D213 part 2 Sentiment Analysis using Neural Networks\n",
    "## Task 2: Sentiment Analysis"
   ],
   "id": "b274bc3e6f08cf0a"
  },
  {
   "metadata": {},
   "cell_type": "markdown",
   "source": [
    "Petra I Bier\n",
    "\n",
    "Western Governors University\n",
    "\n",
    "D213 Advanced Data Analytics\n",
    "\n",
    "Feb 27, 2025\n",
    "\n",
    "Dr. William Sewell PhD\n",
    "\n",
    "--------------------------"
   ],
   "id": "abed2edeffaa327e"
  },
  {
   "metadata": {},
   "cell_type": "markdown",
   "source": [
    "### Table of Contents\n",
    "* [Part I **Question**](#Part-I-Question)\n",
    "    * [A1: Research Question](#A1:-Research-Question)\n",
    "    * [A2: Goal](#A2:-Goal)\n",
    "    * [A3: Neural Network](#A3:-Type-of-Neural-Network)\n",
    "* [Part II **Preparation**](#Part-II-Data-Preparation)\n",
    "    * [B1: Exploratory Data Analysis](#B1:-Exploratory-Data-Analysis)\n",
    "    * [B2: Tokenization](#B2:-Tokenization)\n",
    "    * [B3: Padding](#B3:-Padding)\n",
    "    * [B4: Sentiment Categories](#B4:-Sentiment-Categories)\n",
    "    * [B5: Data Cleaning and Splits](#B5:-Data-Cleaning-and-Splits)\n",
    "    * [B6: Cleaned Data](#B6:-Cleaned-Data)\n",
    "* [Part III **Neural Network**](#Part-III:-Neural-Network)\n",
    "    * [C1: Model Summary](#C1:-Model-Summary)\n",
    "    * [C2: Network Layers](#C2:-Network-Layers)\n",
    "    * [C3: Hyperparameters](#C3:-Hyperparameters)\n",
    "* [Part IV **Evaluation**](#Part-IV:-Evaluation)\n",
    "    * [D1: Stopping Criteria](#D1:-Stopping-Criteria)\n",
    "    * [D2: Model Evaluation](#D2:-Model-Evaluation)\n",
    "    * [D2: Model Fitness Evaluation](#D2:-Model-Fitness-Evaluation)\n",
    "    * [D4: Final Model Accuracy](#D4:-Final-Model-Accuracy)\n",
    "* [Part V **Summary**](#Part-V:-Summary)\n",
    "    * [E: Code](#Code)\n",
    "    * [F: Functionality](#F:-Functionality)\n",
    "    * [G: Recommendations](#Reccomendations)\n",
    "* [Part VI **Reporting**](#Part-VI:-Reporting)\n",
    "    * [H: Code](#Code)\n",
    "    * [I: Web Sources](#I:-Web-Sources)\n",
    "    * [J: Sources](#J:-Sources)\n",
    "\n",
    "\n",
    "Note: While rubric sections are presented in order, some requirements reference steps completed at different stages of the analysis. Links and back links are provided to connect related content across sections."
   ],
   "id": "f57b1d7acdbc93bc"
  },
  {
   "metadata": {
    "tags": []
   },
   "cell_type": "markdown",
   "source": [
    "## Part I Question\n",
    "-----------------------"
   ],
   "id": "378a2e3f8fed1fc"
  },
  {
   "metadata": {},
   "cell_type": "markdown",
   "source": [
    "### A1: Research Question\n",
    "Can Natural Language Processing (NLP) be used with a Neural Network (NN) to predict customer sentiment from reviews to improve customer satisfaction?\n"
   ],
   "id": "74c5123641c99375"
  },
  {
   "metadata": {},
   "cell_type": "markdown",
   "source": [
    "### A2: Goal\n",
    "The goal of this analysis is to attempt to predict a customer’s sentiment based on the written reviews of services or products. Reviews with negative sentiment can be flagged and prioritized for rabid response in an effort to improve overall customer satisfaction."
   ],
   "id": "558296e6af0f1f6e"
  },
  {
   "metadata": {},
   "cell_type": "markdown",
   "source": [
    "### A3: Type of Neural Network\n",
    "\n",
    "Text classification can be used in many business domains such as classifying medical records in the health care sector, fraud detection in the financial sector by examining communications, and for customer service using sentiment analysis.  This analysis’ goal is to create a model that can predict customer sentiment in order to improve customer satisfaction.\n",
    "\n",
    "With sentiment analysis, natural language processing (NLP) is often used in conjunction with neural networks (NN). One type of neural network that is well suited to working with text is Recurrent Neural Networks (RNN). The sequential nature of language is confronted since RNNs are designed to have “memory” withing the deep layer nodes of the network. A particular drawback of RNNs is the vanishing gradient problem which can  cause the model to stop learning. This difficulty can be addressed using a type of RNN called Long Short-Term Memory (LSTM) (Saxena, 2024).\n",
    "\n",
    "LSTM models use feedback loops within the model to capture enduring dependencies, which are often encountered in language. This analysis used a specific type of LSTM called Bidirectional LSTM (BiLSTM), which analyzed the text in both directions.\n"
   ],
   "id": "f59f936db6ad21be"
  },
  {
   "metadata": {},
   "cell_type": "markdown",
   "source": [
    "## Part II Data Preparation\n",
    "----------------"
   ],
   "id": "26da1262b56e35a8"
  },
  {
   "metadata": {
    "ExecuteTime": {
     "end_time": "2025-02-27T20:43:02.091699Z",
     "start_time": "2025-02-27T20:42:58.881475Z"
    }
   },
   "cell_type": "code",
   "source": [
    "# Set up of notebook\n",
    "import os\n",
    "import pandas as pd # used to create the dataframe\n",
    "import numpy as np  #Required dependency for scikit.learn to run\n",
    "import matplotlib.pyplot as plt # to visualize the data\n",
    "import seaborn as sns #Used to visualize the data\n",
    "import tensorflow as tf  # Using version 2.12.0\n",
    "import csv # import the data from csv files\n",
    "import contractions # Used to expand contractions during text cleaning\n",
    "from num2words import num2words # Used to change numeric values to words during text cleaning\n",
    "from sklearn.model_selection import train_test_split # Used to split the data for the model\n",
    "from sklearn.metrics import precision_score, recall_score, f1_score # For Confusion matrix metrics\n",
    "import re # Used for text cleaning\n",
    "import nltk\n",
    "nltk.download('punkt') # NLTK word dictionary\n",
    "from nltk.tokenize import word_tokenize #Used to tokenize the words in the reviews\n",
    "from nltk.corpus import stopwords # Used to remove stop words during the text cleaning process\n",
    "from nltk.stem import WordNetLemmatizer # Used to lemmatize the vocabulary during the preprocessing\n",
    "import optuna # used for hyperparameter tuning\n",
    "from sklearn.metrics import confusion_matrix # Used to analyze performance of the neural network with the test data\n",
    "from tensorflow.keras.preprocessing.text import Tokenizer   # Used to convert the text to numeric tokens\n",
    "from tensorflow.keras.callbacks import EarlyStopping # To add early stopping criteria to the model\n",
    "from tensorflow.keras.models import load_model, Sequential # Used to load the neural network model\n",
    "from tensorflow.keras.preprocessing.sequence import pad_sequences # Used to pad the sequences to be usable for the embedding layer of the NN\n",
    "from tensorflow.keras.layers import Embedding, Dense, LSTM, Bidirectional, Dropout, GlobalAveragePooling1D, Masking # Used to create the layers of Neural Network\n",
    "from tensorflow.keras.optimizers.legacy import Adam # Used to import the Adam optimizer used for the Neural network\n",
    "import random # Used to set the random seed for reproducibility of Optuna study\n",
    "\n",
    "import warnings # Ignore harmless warnings\n",
    "warnings.filterwarnings(\"ignore\")\n",
    "optuna.logging.set_verbosity(optuna.logging.WARNING) # Decrease verbosity of Optuna learning hyperparameters"
   ],
   "id": "98f424aeaa1cede0",
   "outputs": [
    {
     "name": "stderr",
     "output_type": "stream",
     "text": [
      "[nltk_data] Error loading punkt: <urlopen error [SSL:\n",
      "[nltk_data]     CERTIFICATE_VERIFY_FAILED] certificate verify failed:\n",
      "[nltk_data]     unable to get local issuer certificate (_ssl.c:1007)>\n"
     ]
    }
   ],
   "execution_count": 1
  },
  {
   "metadata": {},
   "cell_type": "markdown",
   "source": "The data was imported from three separate CSVs and joined to create a single dataset (Kotzias, 2015).",
   "id": "8cea8712bdc9d95e"
  },
  {
   "metadata": {
    "ExecuteTime": {
     "end_time": "2025-02-27T20:43:02.120398Z",
     "start_time": "2025-02-27T20:43:02.109984Z"
    }
   },
   "cell_type": "code",
   "source": [
    "# Read the amazon file\n",
    "amazon = pd.read_csv('/Users/petrabier/PycharmProjects/WGU/D213_sentiment_files/amazon_cells_labelled.txt',\n",
    "                 sep='\\t',\n",
    "                 quoting=csv.QUOTE_NONE,\n",
    "                 header=None,\n",
    "                 names=['review', 'score'])\n",
    "\n",
    "# Verify\n",
    "print(\"Shape of data:\", amazon.shape)\n",
    "print(\"\\nFirst few reviews:\")\n",
    "print(amazon.head())"
   ],
   "id": "4f381e24e3904e79",
   "outputs": [
    {
     "name": "stdout",
     "output_type": "stream",
     "text": [
      "Shape of data: (1000, 2)\n",
      "\n",
      "First few reviews:\n",
      "                                              review  score\n",
      "0  So there is no way for me to plug it in here i...      0\n",
      "1                        Good case, Excellent value.      1\n",
      "2                             Great for the jawbone.      1\n",
      "3  Tied to charger for conversations lasting more...      0\n",
      "4                                  The mic is great.      1\n"
     ]
    }
   ],
   "execution_count": 2
  },
  {
   "metadata": {
    "ExecuteTime": {
     "end_time": "2025-02-27T20:43:02.229466Z",
     "start_time": "2025-02-27T20:43:02.218688Z"
    }
   },
   "cell_type": "code",
   "source": [
    "# Read the imdb file\n",
    "imdb = pd.read_csv('/Users/petrabier/PycharmProjects/WGU/D213_sentiment_files/imdb_labelled.txt',\n",
    "                 sep='\\t',\n",
    "                 quoting=csv.QUOTE_NONE,\n",
    "                 header=None,\n",
    "                 names=['review', 'score'])\n",
    "\n",
    "# Verify\n",
    "print(\"Shape of data:\", imdb.shape)\n",
    "print(\"\\nFirst few reviews:\")\n",
    "print(imdb.head())"
   ],
   "id": "6b2da4fb303ac89",
   "outputs": [
    {
     "name": "stdout",
     "output_type": "stream",
     "text": [
      "Shape of data: (1000, 2)\n",
      "\n",
      "First few reviews:\n",
      "                                              review  score\n",
      "0  A very, very, very slow-moving, aimless movie ...      0\n",
      "1  Not sure who was more lost - the flat characte...      0\n",
      "2  Attempting artiness with black & white and cle...      0\n",
      "3       Very little music or anything to speak of.        0\n",
      "4  The best scene in the movie was when Gerardo i...      1\n"
     ]
    }
   ],
   "execution_count": 3
  },
  {
   "metadata": {
    "ExecuteTime": {
     "end_time": "2025-02-27T20:43:02.278406Z",
     "start_time": "2025-02-27T20:43:02.274365Z"
    }
   },
   "cell_type": "code",
   "source": [
    "# Read the yelp file\n",
    "yelp = pd.read_csv('/Users/petrabier/PycharmProjects/WGU/D213_sentiment_files/yelp_labelled.txt',\n",
    "                 sep='\\t',\n",
    "                 quoting=csv.QUOTE_NONE,\n",
    "                 header=None,\n",
    "                 names=['review', 'score'])\n",
    "\n",
    "# Verify\n",
    "print(\"Shape of data:\", yelp.shape)\n",
    "print(\"\\nFirst few reviews:\")\n",
    "print(yelp.head())"
   ],
   "id": "97049aac21a9f56e",
   "outputs": [
    {
     "name": "stdout",
     "output_type": "stream",
     "text": [
      "Shape of data: (1000, 2)\n",
      "\n",
      "First few reviews:\n",
      "                                              review  score\n",
      "0                           Wow... Loved this place.      1\n",
      "1                                 Crust is not good.      0\n",
      "2          Not tasty and the texture was just nasty.      0\n",
      "3  Stopped by during the late May bank holiday of...      1\n",
      "4  The selection on the menu was great and so wer...      1\n"
     ]
    }
   ],
   "execution_count": 4
  },
  {
   "metadata": {
    "ExecuteTime": {
     "end_time": "2025-02-27T20:43:02.351295Z",
     "start_time": "2025-02-27T20:43:02.347486Z"
    }
   },
   "cell_type": "code",
   "source": [
    "#Combine the data sets\n",
    "df_reviews = pd.concat([amazon, imdb, yelp], ignore_index = True)\n",
    "df_reviews.shape"
   ],
   "id": "feeb75fd4ce3fcec",
   "outputs": [
    {
     "data": {
      "text/plain": [
       "(3000, 2)"
      ]
     },
     "execution_count": 5,
     "metadata": {},
     "output_type": "execute_result"
    }
   ],
   "execution_count": 5
  },
  {
   "metadata": {},
   "cell_type": "markdown",
   "source": "The new dataset was evaluated for missing values and the distribution of the scores was assessed.",
   "id": "3930291e1574b78f"
  },
  {
   "metadata": {
    "ExecuteTime": {
     "end_time": "2025-02-27T20:43:02.433462Z",
     "start_time": "2025-02-27T20:43:02.428778Z"
    }
   },
   "cell_type": "code",
   "source": "df_reviews.head(10)",
   "id": "47f72b583f733fa0",
   "outputs": [
    {
     "data": {
      "text/plain": [
       "                                              review  score\n",
       "0  So there is no way for me to plug it in here i...      0\n",
       "1                        Good case, Excellent value.      1\n",
       "2                             Great for the jawbone.      1\n",
       "3  Tied to charger for conversations lasting more...      0\n",
       "4                                  The mic is great.      1\n",
       "5  I have to jiggle the plug to get it to line up...      0\n",
       "6  If you have several dozen or several hundred c...      0\n",
       "7        If you are Razr owner...you must have this!      1\n",
       "8                Needless to say, I wasted my money.      0\n",
       "9                   What a waste of money and time!.      0"
      ],
      "text/html": [
       "<div>\n",
       "<style scoped>\n",
       "    .dataframe tbody tr th:only-of-type {\n",
       "        vertical-align: middle;\n",
       "    }\n",
       "\n",
       "    .dataframe tbody tr th {\n",
       "        vertical-align: top;\n",
       "    }\n",
       "\n",
       "    .dataframe thead th {\n",
       "        text-align: right;\n",
       "    }\n",
       "</style>\n",
       "<table border=\"1\" class=\"dataframe\">\n",
       "  <thead>\n",
       "    <tr style=\"text-align: right;\">\n",
       "      <th></th>\n",
       "      <th>review</th>\n",
       "      <th>score</th>\n",
       "    </tr>\n",
       "  </thead>\n",
       "  <tbody>\n",
       "    <tr>\n",
       "      <th>0</th>\n",
       "      <td>So there is no way for me to plug it in here i...</td>\n",
       "      <td>0</td>\n",
       "    </tr>\n",
       "    <tr>\n",
       "      <th>1</th>\n",
       "      <td>Good case, Excellent value.</td>\n",
       "      <td>1</td>\n",
       "    </tr>\n",
       "    <tr>\n",
       "      <th>2</th>\n",
       "      <td>Great for the jawbone.</td>\n",
       "      <td>1</td>\n",
       "    </tr>\n",
       "    <tr>\n",
       "      <th>3</th>\n",
       "      <td>Tied to charger for conversations lasting more...</td>\n",
       "      <td>0</td>\n",
       "    </tr>\n",
       "    <tr>\n",
       "      <th>4</th>\n",
       "      <td>The mic is great.</td>\n",
       "      <td>1</td>\n",
       "    </tr>\n",
       "    <tr>\n",
       "      <th>5</th>\n",
       "      <td>I have to jiggle the plug to get it to line up...</td>\n",
       "      <td>0</td>\n",
       "    </tr>\n",
       "    <tr>\n",
       "      <th>6</th>\n",
       "      <td>If you have several dozen or several hundred c...</td>\n",
       "      <td>0</td>\n",
       "    </tr>\n",
       "    <tr>\n",
       "      <th>7</th>\n",
       "      <td>If you are Razr owner...you must have this!</td>\n",
       "      <td>1</td>\n",
       "    </tr>\n",
       "    <tr>\n",
       "      <th>8</th>\n",
       "      <td>Needless to say, I wasted my money.</td>\n",
       "      <td>0</td>\n",
       "    </tr>\n",
       "    <tr>\n",
       "      <th>9</th>\n",
       "      <td>What a waste of money and time!.</td>\n",
       "      <td>0</td>\n",
       "    </tr>\n",
       "  </tbody>\n",
       "</table>\n",
       "</div>"
      ]
     },
     "execution_count": 6,
     "metadata": {},
     "output_type": "execute_result"
    }
   ],
   "execution_count": 6
  },
  {
   "metadata": {
    "ExecuteTime": {
     "end_time": "2025-02-27T20:43:02.514275Z",
     "start_time": "2025-02-27T20:43:02.508447Z"
    }
   },
   "cell_type": "code",
   "source": "print(df_reviews['score'].value_counts())",
   "id": "d4227336f0f2da0a",
   "outputs": [
    {
     "name": "stdout",
     "output_type": "stream",
     "text": [
      "score\n",
      "0    1500\n",
      "1    1500\n",
      "Name: count, dtype: int64\n"
     ]
    }
   ],
   "execution_count": 7
  },
  {
   "metadata": {
    "ExecuteTime": {
     "end_time": "2025-02-27T20:43:02.750792Z",
     "start_time": "2025-02-27T20:43:02.739871Z"
    }
   },
   "cell_type": "code",
   "source": "df_reviews.isna().sum()",
   "id": "18c3c61eb72af899",
   "outputs": [
    {
     "data": {
      "text/plain": [
       "review    0\n",
       "score     0\n",
       "dtype: int64"
      ]
     },
     "execution_count": 8,
     "metadata": {},
     "output_type": "execute_result"
    }
   ],
   "execution_count": 8
  },
  {
   "metadata": {},
   "cell_type": "markdown",
   "source": [
    "###### Sentiment Scores\n",
    "A visualization of the sentiment score distribution was created. As defined in the data dictionary, a value of 0 is a negative sentence and a value of 1 is a positive sentence."
   ],
   "id": "c09ef05164e6b068"
  },
  {
   "metadata": {
    "ExecuteTime": {
     "end_time": "2025-02-27T20:43:02.960713Z",
     "start_time": "2025-02-27T20:43:02.818036Z"
    }
   },
   "cell_type": "code",
   "source": [
    "# Plot sentiment distribution\n",
    "sns.countplot(x='score', data=df_reviews, palette=['green', 'blue'])"
   ],
   "id": "547876247c6237b2",
   "outputs": [
    {
     "data": {
      "text/plain": [
       "<Axes: xlabel='score', ylabel='count'>"
      ]
     },
     "execution_count": 9,
     "metadata": {},
     "output_type": "execute_result"
    },
    {
     "data": {
      "text/plain": [
       "<Figure size 640x480 with 1 Axes>"
      ],
      "image/png": "[encoded data removed]"
     },
     "metadata": {},
     "output_type": "display_data"
    }
   ],
   "execution_count": 9
  },
  {
   "metadata": {},
   "cell_type": "markdown",
   "source": [
    "### B1: Exploratory Data Analysis\n",
    "\n",
    "Working with language and text data requires cleaning that deals with more than things such as missing values and removal of duplicates. The text must  also be examined for things such as special characters, emojis and punctuation.\n",
    "\n",
    "* Special characters were identified and then removed from the data as shown [here](#Special-Characters). Numerical values were changed to text equivalents.\n",
    "* Vocabulary size was assessed after tokenization, stop word removal and lemmatization. This allowed for a true representation of the number of unique words in the dataset. The vocabulary size was determined to be 4552, which can be viewed [here](#Vocabulary-Size).\n",
    "* The embedding length that will be used in the initial LSTM model will be eight. This is the value that will be used for the embedding dimension when building the embedding layer. This is also called `output_dim`. The embedding length was chosen using a statistical rule-of—thumb where the fourth root of the vocabulary size is calculated (Google, 2017). This embedding length is how many dimensions are assigned to each word. This can be thought of as how many descriptors are being used for each token.\n",
    "* The maximum sequence length was determined after stop word removal and lemmatization were completed. The number of tokens for each review was statistically analyzed using a histogram that can be seen [here](#Sequence-Length). It was noted to have a right skew. The maximum number of tokens was 44 with the 99th percentile being 20 tokens. Due to the small data set and the relatively short maximum sequence length, in combination with a smaller data set of only 3000 rows, the longest review length of 44 was used. This value is used when determining the length of the padded sequences.\n",
    "\n",
    "All values for the embedding layer of the LSTM model can be seen [here](#Embedding-Layer-Values)."
   ],
   "id": "c05f57fe709fc44d"
  },
  {
   "metadata": {
    "ExecuteTime": {
     "end_time": "2025-02-27T20:43:03.015948Z",
     "start_time": "2025-02-27T20:43:02.990762Z"
    }
   },
   "cell_type": "code",
   "source": [
    "#Find the different characters\n",
    "characters = set()\n",
    "for review in df_reviews['review']:\n",
    "    for char in str(review):\n",
    "        characters.add(char)\n",
    "\n",
    "list_char = sorted(list(characters))\n",
    "\n",
    "print(\"Unique characters found:\", len(list_char))\n",
    "print(\"Characters:\", list_char)"
   ],
   "id": "ff9b544f400a692e",
   "outputs": [
    {
     "name": "stdout",
     "output_type": "stream",
     "text": [
      "Unique characters found: 89\n",
      "Characters: [' ', '!', '\"', '#', '$', '%', '&', \"'\", '(', ')', '*', '+', ',', '-', '.', '/', '0', '1', '2', '3', '4', '5', '6', '7', '8', '9', ':', ';', '?', 'A', 'B', 'C', 'D', 'E', 'F', 'G', 'H', 'I', 'J', 'K', 'L', 'M', 'N', 'O', 'P', 'Q', 'R', 'S', 'T', 'U', 'V', 'W', 'X', 'Y', 'Z', '[', ']', 'a', 'b', 'c', 'd', 'e', 'f', 'g', 'h', 'i', 'j', 'k', 'l', 'm', 'n', 'o', 'p', 'q', 'r', 's', 't', 'u', 'v', 'w', 'x', 'y', 'z', '\\x85', '\\x96', '\\x97', 'å', 'é', 'ê']\n"
     ]
    }
   ],
   "execution_count": 10
  },
  {
   "metadata": {},
   "cell_type": "markdown",
   "source": [
    "###### Special Characters\n",
    "All special characters were removed, including URLS, emojis, and numbers were changed to text (Mayo, 2023)."
   ],
   "id": "1f1f684ed2b253ec"
  },
  {
   "metadata": {
    "ExecuteTime": {
     "end_time": "2025-02-27T20:43:03.105572Z",
     "start_time": "2025-02-27T20:43:03.057323Z"
    }
   },
   "cell_type": "code",
   "source": [
    "# Remove special characters but keep spaces\n",
    "df_reviews['clean'] = df_reviews['review'].str.replace(r'[^a-zA-Z\\s]', ' ', regex=True)\n",
    "# Remove URLs\n",
    "df_reviews['clean'] = df_reviews['clean'].str.replace(r'http\\S+|www.\\S+', '', case=False)\n",
    "# Remove emojis specifically\n",
    "df_reviews['clean'] = df_reviews['clean'].str.replace('[^\\w\\s#@/:%.,_-]', '', flags=re.UNICODE)\n",
    "# Preserve measurements\n",
    "df_reviews['clean'] = df_reviews['clean'].str.replace(\n",
    "    r'(\\d+\\+?\\s*(?:ft|cm|m|inch|kg|lb))',\n",
    "    lambda m: m.group(1).replace('+', ' plus '),\n",
    "    regex=True)\n",
    "# Handle numbers by changing them to text\n",
    "def normalize_numbers(text):\n",
    "    words = str(text).split()\n",
    "    words = [num2words(int(w)) if w.isdigit() else w for w in words]\n",
    "    return ' '.join(words)\n",
    "df_reviews['clean'] = df_reviews['clean'].apply(normalize_numbers)\n",
    "# Remove extra whitespace\n",
    "df_reviews['clean'] = df_reviews['clean'].str.replace(r'\\s+', ' ', regex=True).str.strip()\n",
    "#Verify\n",
    "print(''.join(sorted(set(''.join(df_reviews['clean'])))))\n"
   ],
   "id": "12a9255227363ce8",
   "outputs": [
    {
     "name": "stdout",
     "output_type": "stream",
     "text": [
      " ABCDEFGHIJKLMNOPQRSTUVWXYZabcdefghijklmnopqrstuvwxyz\n"
     ]
    }
   ],
   "execution_count": 11
  },
  {
   "metadata": {
    "ExecuteTime": {
     "end_time": "2025-02-27T20:43:03.154142Z",
     "start_time": "2025-02-27T20:43:03.149435Z"
    }
   },
   "cell_type": "code",
   "source": [
    "#Verify that there are no special characters\n",
    "non_alpha = df_reviews[df_reviews['clean'].str.contains(r'[^a-zA-Z\\s]')]\n",
    "print(f\"Rows with special characters: {len(non_alpha)}\")\n",
    "print(non_alpha.head())"
   ],
   "id": "be6c85bc62afdea1",
   "outputs": [
    {
     "name": "stdout",
     "output_type": "stream",
     "text": [
      "Rows with special characters: 0\n",
      "Empty DataFrame\n",
      "Columns: [review, score, clean]\n",
      "Index: []\n"
     ]
    }
   ],
   "execution_count": 12
  },
  {
   "metadata": {},
   "cell_type": "markdown",
   "source": "Note. For this analysis, new columns were created in the DataFrame at each step to track and visualize the text cleaning process. This allowed for comparison of steps in the text preprocessing.",
   "id": "f9a954573b79bb60"
  },
  {
   "metadata": {
    "ExecuteTime": {
     "end_time": "2025-02-27T20:43:03.185921Z",
     "start_time": "2025-02-27T20:43:03.181879Z"
    }
   },
   "cell_type": "code",
   "source": "df_reviews.head(10)",
   "id": "af28040ddb18d691",
   "outputs": [
    {
     "data": {
      "text/plain": [
       "                                              review  score  \\\n",
       "0  So there is no way for me to plug it in here i...      0   \n",
       "1                        Good case, Excellent value.      1   \n",
       "2                             Great for the jawbone.      1   \n",
       "3  Tied to charger for conversations lasting more...      0   \n",
       "4                                  The mic is great.      1   \n",
       "5  I have to jiggle the plug to get it to line up...      0   \n",
       "6  If you have several dozen or several hundred c...      0   \n",
       "7        If you are Razr owner...you must have this!      1   \n",
       "8                Needless to say, I wasted my money.      0   \n",
       "9                   What a waste of money and time!.      0   \n",
       "\n",
       "                                               clean  \n",
       "0  So there is no way for me to plug it in here i...  \n",
       "1                          Good case Excellent value  \n",
       "2                              Great for the jawbone  \n",
       "3  Tied to charger for conversations lasting more...  \n",
       "4                                   The mic is great  \n",
       "5  I have to jiggle the plug to get it to line up...  \n",
       "6  If you have several dozen or several hundred c...  \n",
       "7           If you are Razr owner you must have this  \n",
       "8                  Needless to say I wasted my money  \n",
       "9                     What a waste of money and time  "
      ],
      "text/html": [
       "<div>\n",
       "<style scoped>\n",
       "    .dataframe tbody tr th:only-of-type {\n",
       "        vertical-align: middle;\n",
       "    }\n",
       "\n",
       "    .dataframe tbody tr th {\n",
       "        vertical-align: top;\n",
       "    }\n",
       "\n",
       "    .dataframe thead th {\n",
       "        text-align: right;\n",
       "    }\n",
       "</style>\n",
       "<table border=\"1\" class=\"dataframe\">\n",
       "  <thead>\n",
       "    <tr style=\"text-align: right;\">\n",
       "      <th></th>\n",
       "      <th>review</th>\n",
       "      <th>score</th>\n",
       "      <th>clean</th>\n",
       "    </tr>\n",
       "  </thead>\n",
       "  <tbody>\n",
       "    <tr>\n",
       "      <th>0</th>\n",
       "      <td>So there is no way for me to plug it in here i...</td>\n",
       "      <td>0</td>\n",
       "      <td>So there is no way for me to plug it in here i...</td>\n",
       "    </tr>\n",
       "    <tr>\n",
       "      <th>1</th>\n",
       "      <td>Good case, Excellent value.</td>\n",
       "      <td>1</td>\n",
       "      <td>Good case Excellent value</td>\n",
       "    </tr>\n",
       "    <tr>\n",
       "      <th>2</th>\n",
       "      <td>Great for the jawbone.</td>\n",
       "      <td>1</td>\n",
       "      <td>Great for the jawbone</td>\n",
       "    </tr>\n",
       "    <tr>\n",
       "      <th>3</th>\n",
       "      <td>Tied to charger for conversations lasting more...</td>\n",
       "      <td>0</td>\n",
       "      <td>Tied to charger for conversations lasting more...</td>\n",
       "    </tr>\n",
       "    <tr>\n",
       "      <th>4</th>\n",
       "      <td>The mic is great.</td>\n",
       "      <td>1</td>\n",
       "      <td>The mic is great</td>\n",
       "    </tr>\n",
       "    <tr>\n",
       "      <th>5</th>\n",
       "      <td>I have to jiggle the plug to get it to line up...</td>\n",
       "      <td>0</td>\n",
       "      <td>I have to jiggle the plug to get it to line up...</td>\n",
       "    </tr>\n",
       "    <tr>\n",
       "      <th>6</th>\n",
       "      <td>If you have several dozen or several hundred c...</td>\n",
       "      <td>0</td>\n",
       "      <td>If you have several dozen or several hundred c...</td>\n",
       "    </tr>\n",
       "    <tr>\n",
       "      <th>7</th>\n",
       "      <td>If you are Razr owner...you must have this!</td>\n",
       "      <td>1</td>\n",
       "      <td>If you are Razr owner you must have this</td>\n",
       "    </tr>\n",
       "    <tr>\n",
       "      <th>8</th>\n",
       "      <td>Needless to say, I wasted my money.</td>\n",
       "      <td>0</td>\n",
       "      <td>Needless to say I wasted my money</td>\n",
       "    </tr>\n",
       "    <tr>\n",
       "      <th>9</th>\n",
       "      <td>What a waste of money and time!.</td>\n",
       "      <td>0</td>\n",
       "      <td>What a waste of money and time</td>\n",
       "    </tr>\n",
       "  </tbody>\n",
       "</table>\n",
       "</div>"
      ]
     },
     "execution_count": 13,
     "metadata": {},
     "output_type": "execute_result"
    }
   ],
   "execution_count": 13
  },
  {
   "metadata": {
    "ExecuteTime": {
     "end_time": "2025-02-27T20:43:03.219699Z",
     "start_time": "2025-02-27T20:43:03.211837Z"
    }
   },
   "cell_type": "code",
   "source": [
    "# Count of numbers before\n",
    "number_count_before = df_reviews['review'].str.count(r'\\d+').sum()\n",
    "print(f\"Numbers before: {number_count_before}\")\n",
    "# Count of numbers after\n",
    "number_count_after = df_reviews['clean'].str.count(r'\\d+').sum()\n",
    "print(f\"Numbers after: {number_count_after}\")"
   ],
   "id": "f9dbbc7d8bf71629",
   "outputs": [
    {
     "name": "stdout",
     "output_type": "stream",
     "text": [
      "Numbers before: 307\n",
      "Numbers after: 0\n"
     ]
    }
   ],
   "execution_count": 14
  },
  {
   "metadata": {},
   "cell_type": "markdown",
   "source": [
    "###### Text Normalization\n",
    "All text data was normalized, meaning all text was changed to lowercase. In Natural Language Processing (NLP), this allows for the difference between the same words that are both lower and upper case (\"Good\", \"good\", \"GOOD\") to be treated as the same word. This reduces the size of the vocabulary to be analyzed and allows for improved analytics by the NN."
   ],
   "id": "d82faa1dfcd2d41d"
  },
  {
   "metadata": {
    "ExecuteTime": {
     "end_time": "2025-02-27T20:43:03.242921Z",
     "start_time": "2025-02-27T20:43:03.238193Z"
    }
   },
   "cell_type": "code",
   "source": [
    "#Lowercase the strings\n",
    "df_reviews['low_review'] = df_reviews['clean'].str.lower()\n",
    "df_reviews.head(10)"
   ],
   "id": "c0b0f8e76011cfb2",
   "outputs": [
    {
     "data": {
      "text/plain": [
       "                                              review  score  \\\n",
       "0  So there is no way for me to plug it in here i...      0   \n",
       "1                        Good case, Excellent value.      1   \n",
       "2                             Great for the jawbone.      1   \n",
       "3  Tied to charger for conversations lasting more...      0   \n",
       "4                                  The mic is great.      1   \n",
       "5  I have to jiggle the plug to get it to line up...      0   \n",
       "6  If you have several dozen or several hundred c...      0   \n",
       "7        If you are Razr owner...you must have this!      1   \n",
       "8                Needless to say, I wasted my money.      0   \n",
       "9                   What a waste of money and time!.      0   \n",
       "\n",
       "                                               clean  \\\n",
       "0  So there is no way for me to plug it in here i...   \n",
       "1                          Good case Excellent value   \n",
       "2                              Great for the jawbone   \n",
       "3  Tied to charger for conversations lasting more...   \n",
       "4                                   The mic is great   \n",
       "5  I have to jiggle the plug to get it to line up...   \n",
       "6  If you have several dozen or several hundred c...   \n",
       "7           If you are Razr owner you must have this   \n",
       "8                  Needless to say I wasted my money   \n",
       "9                     What a waste of money and time   \n",
       "\n",
       "                                          low_review  \n",
       "0  so there is no way for me to plug it in here i...  \n",
       "1                          good case excellent value  \n",
       "2                              great for the jawbone  \n",
       "3  tied to charger for conversations lasting more...  \n",
       "4                                   the mic is great  \n",
       "5  i have to jiggle the plug to get it to line up...  \n",
       "6  if you have several dozen or several hundred c...  \n",
       "7           if you are razr owner you must have this  \n",
       "8                  needless to say i wasted my money  \n",
       "9                     what a waste of money and time  "
      ],
      "text/html": [
       "<div>\n",
       "<style scoped>\n",
       "    .dataframe tbody tr th:only-of-type {\n",
       "        vertical-align: middle;\n",
       "    }\n",
       "\n",
       "    .dataframe tbody tr th {\n",
       "        vertical-align: top;\n",
       "    }\n",
       "\n",
       "    .dataframe thead th {\n",
       "        text-align: right;\n",
       "    }\n",
       "</style>\n",
       "<table border=\"1\" class=\"dataframe\">\n",
       "  <thead>\n",
       "    <tr style=\"text-align: right;\">\n",
       "      <th></th>\n",
       "      <th>review</th>\n",
       "      <th>score</th>\n",
       "      <th>clean</th>\n",
       "      <th>low_review</th>\n",
       "    </tr>\n",
       "  </thead>\n",
       "  <tbody>\n",
       "    <tr>\n",
       "      <th>0</th>\n",
       "      <td>So there is no way for me to plug it in here i...</td>\n",
       "      <td>0</td>\n",
       "      <td>So there is no way for me to plug it in here i...</td>\n",
       "      <td>so there is no way for me to plug it in here i...</td>\n",
       "    </tr>\n",
       "    <tr>\n",
       "      <th>1</th>\n",
       "      <td>Good case, Excellent value.</td>\n",
       "      <td>1</td>\n",
       "      <td>Good case Excellent value</td>\n",
       "      <td>good case excellent value</td>\n",
       "    </tr>\n",
       "    <tr>\n",
       "      <th>2</th>\n",
       "      <td>Great for the jawbone.</td>\n",
       "      <td>1</td>\n",
       "      <td>Great for the jawbone</td>\n",
       "      <td>great for the jawbone</td>\n",
       "    </tr>\n",
       "    <tr>\n",
       "      <th>3</th>\n",
       "      <td>Tied to charger for conversations lasting more...</td>\n",
       "      <td>0</td>\n",
       "      <td>Tied to charger for conversations lasting more...</td>\n",
       "      <td>tied to charger for conversations lasting more...</td>\n",
       "    </tr>\n",
       "    <tr>\n",
       "      <th>4</th>\n",
       "      <td>The mic is great.</td>\n",
       "      <td>1</td>\n",
       "      <td>The mic is great</td>\n",
       "      <td>the mic is great</td>\n",
       "    </tr>\n",
       "    <tr>\n",
       "      <th>5</th>\n",
       "      <td>I have to jiggle the plug to get it to line up...</td>\n",
       "      <td>0</td>\n",
       "      <td>I have to jiggle the plug to get it to line up...</td>\n",
       "      <td>i have to jiggle the plug to get it to line up...</td>\n",
       "    </tr>\n",
       "    <tr>\n",
       "      <th>6</th>\n",
       "      <td>If you have several dozen or several hundred c...</td>\n",
       "      <td>0</td>\n",
       "      <td>If you have several dozen or several hundred c...</td>\n",
       "      <td>if you have several dozen or several hundred c...</td>\n",
       "    </tr>\n",
       "    <tr>\n",
       "      <th>7</th>\n",
       "      <td>If you are Razr owner...you must have this!</td>\n",
       "      <td>1</td>\n",
       "      <td>If you are Razr owner you must have this</td>\n",
       "      <td>if you are razr owner you must have this</td>\n",
       "    </tr>\n",
       "    <tr>\n",
       "      <th>8</th>\n",
       "      <td>Needless to say, I wasted my money.</td>\n",
       "      <td>0</td>\n",
       "      <td>Needless to say I wasted my money</td>\n",
       "      <td>needless to say i wasted my money</td>\n",
       "    </tr>\n",
       "    <tr>\n",
       "      <th>9</th>\n",
       "      <td>What a waste of money and time!.</td>\n",
       "      <td>0</td>\n",
       "      <td>What a waste of money and time</td>\n",
       "      <td>what a waste of money and time</td>\n",
       "    </tr>\n",
       "  </tbody>\n",
       "</table>\n",
       "</div>"
      ]
     },
     "execution_count": 15,
     "metadata": {},
     "output_type": "execute_result"
    }
   ],
   "execution_count": 15
  },
  {
   "metadata": {
    "ExecuteTime": {
     "end_time": "2025-02-27T20:43:03.301946Z",
     "start_time": "2025-02-27T20:43:03.290437Z"
    }
   },
   "cell_type": "code",
   "source": [
    "#Remove contractions\n",
    "df_reviews['text'] = df_reviews['low_review'].apply(lambda x: contractions.fix(x))\n",
    "df_reviews.head()"
   ],
   "id": "341241441b0b5adc",
   "outputs": [
    {
     "data": {
      "text/plain": [
       "                                              review  score  \\\n",
       "0  So there is no way for me to plug it in here i...      0   \n",
       "1                        Good case, Excellent value.      1   \n",
       "2                             Great for the jawbone.      1   \n",
       "3  Tied to charger for conversations lasting more...      0   \n",
       "4                                  The mic is great.      1   \n",
       "\n",
       "                                               clean  \\\n",
       "0  So there is no way for me to plug it in here i...   \n",
       "1                          Good case Excellent value   \n",
       "2                              Great for the jawbone   \n",
       "3  Tied to charger for conversations lasting more...   \n",
       "4                                   The mic is great   \n",
       "\n",
       "                                          low_review  \\\n",
       "0  so there is no way for me to plug it in here i...   \n",
       "1                          good case excellent value   \n",
       "2                              great for the jawbone   \n",
       "3  tied to charger for conversations lasting more...   \n",
       "4                                   the mic is great   \n",
       "\n",
       "                                                text  \n",
       "0  so there is no way for me to plug it in here i...  \n",
       "1                          good case excellent value  \n",
       "2                              great for the jawbone  \n",
       "3  tied to charger for conversations lasting more...  \n",
       "4                                   the mic is great  "
      ],
      "text/html": [
       "<div>\n",
       "<style scoped>\n",
       "    .dataframe tbody tr th:only-of-type {\n",
       "        vertical-align: middle;\n",
       "    }\n",
       "\n",
       "    .dataframe tbody tr th {\n",
       "        vertical-align: top;\n",
       "    }\n",
       "\n",
       "    .dataframe thead th {\n",
       "        text-align: right;\n",
       "    }\n",
       "</style>\n",
       "<table border=\"1\" class=\"dataframe\">\n",
       "  <thead>\n",
       "    <tr style=\"text-align: right;\">\n",
       "      <th></th>\n",
       "      <th>review</th>\n",
       "      <th>score</th>\n",
       "      <th>clean</th>\n",
       "      <th>low_review</th>\n",
       "      <th>text</th>\n",
       "    </tr>\n",
       "  </thead>\n",
       "  <tbody>\n",
       "    <tr>\n",
       "      <th>0</th>\n",
       "      <td>So there is no way for me to plug it in here i...</td>\n",
       "      <td>0</td>\n",
       "      <td>So there is no way for me to plug it in here i...</td>\n",
       "      <td>so there is no way for me to plug it in here i...</td>\n",
       "      <td>so there is no way for me to plug it in here i...</td>\n",
       "    </tr>\n",
       "    <tr>\n",
       "      <th>1</th>\n",
       "      <td>Good case, Excellent value.</td>\n",
       "      <td>1</td>\n",
       "      <td>Good case Excellent value</td>\n",
       "      <td>good case excellent value</td>\n",
       "      <td>good case excellent value</td>\n",
       "    </tr>\n",
       "    <tr>\n",
       "      <th>2</th>\n",
       "      <td>Great for the jawbone.</td>\n",
       "      <td>1</td>\n",
       "      <td>Great for the jawbone</td>\n",
       "      <td>great for the jawbone</td>\n",
       "      <td>great for the jawbone</td>\n",
       "    </tr>\n",
       "    <tr>\n",
       "      <th>3</th>\n",
       "      <td>Tied to charger for conversations lasting more...</td>\n",
       "      <td>0</td>\n",
       "      <td>Tied to charger for conversations lasting more...</td>\n",
       "      <td>tied to charger for conversations lasting more...</td>\n",
       "      <td>tied to charger for conversations lasting more...</td>\n",
       "    </tr>\n",
       "    <tr>\n",
       "      <th>4</th>\n",
       "      <td>The mic is great.</td>\n",
       "      <td>1</td>\n",
       "      <td>The mic is great</td>\n",
       "      <td>the mic is great</td>\n",
       "      <td>the mic is great</td>\n",
       "    </tr>\n",
       "  </tbody>\n",
       "</table>\n",
       "</div>"
      ]
     },
     "execution_count": 16,
     "metadata": {},
     "output_type": "execute_result"
    }
   ],
   "execution_count": 16
  },
  {
   "metadata": {},
   "cell_type": "markdown",
   "source": [
    "### B2: Tokenization\n",
    "Prior to the tokenization process, the text was [normalized](#Text-Normalization) to all lower case.\n",
    "\n",
    "The strings were tokenized into individual elements, which are called tokens. This allows NLP software and machine learning models to recognize the individual building blocks of language (Vajjala et al., 2020, p. 50). When words are separated out from paragraphs or sentences into individual tokens, models can then run analysis on these tokens, such as counting usage and looking for patterns.\n",
    "\n",
    "All packages and libraries were loaded in the first code cell of this analysis. The packages used for tokenization include NLTK for the word_tokenize function, which splits text into word-level tokens.\n",
    "* `import nltk`\n",
    "* `from nltk.tokenize import word_tokenize`\n",
    "\n",
    "In order for the text to be processed in Tensor flow, the strings must be changed to a numeric value. Using the `Tokenizer()` class from the Keras library, the text was transformed into numeric sequences. This process, called sequencing, maps each word to a numeric index value, allowing the text values to be used within the neural network. The code for the Tokenizer can be seen [here](#Tokenizer-Class).\n",
    "* `from tensorflow.keras.preprocessing.text import Tokenizer`"
   ],
   "id": "bf08b1db3b297c80"
  },
  {
   "metadata": {
    "ExecuteTime": {
     "end_time": "2025-02-27T20:43:03.453326Z",
     "start_time": "2025-02-27T20:43:03.338912Z"
    }
   },
   "cell_type": "code",
   "source": [
    "df_reviews['tokenized_text'] = df_reviews['text'].apply(word_tokenize)\n",
    "df_reviews.head(10)"
   ],
   "id": "ecd0b9736613c6fe",
   "outputs": [
    {
     "data": {
      "text/plain": [
       "                                              review  score  \\\n",
       "0  So there is no way for me to plug it in here i...      0   \n",
       "1                        Good case, Excellent value.      1   \n",
       "2                             Great for the jawbone.      1   \n",
       "3  Tied to charger for conversations lasting more...      0   \n",
       "4                                  The mic is great.      1   \n",
       "5  I have to jiggle the plug to get it to line up...      0   \n",
       "6  If you have several dozen or several hundred c...      0   \n",
       "7        If you are Razr owner...you must have this!      1   \n",
       "8                Needless to say, I wasted my money.      0   \n",
       "9                   What a waste of money and time!.      0   \n",
       "\n",
       "                                               clean  \\\n",
       "0  So there is no way for me to plug it in here i...   \n",
       "1                          Good case Excellent value   \n",
       "2                              Great for the jawbone   \n",
       "3  Tied to charger for conversations lasting more...   \n",
       "4                                   The mic is great   \n",
       "5  I have to jiggle the plug to get it to line up...   \n",
       "6  If you have several dozen or several hundred c...   \n",
       "7           If you are Razr owner you must have this   \n",
       "8                  Needless to say I wasted my money   \n",
       "9                     What a waste of money and time   \n",
       "\n",
       "                                          low_review  \\\n",
       "0  so there is no way for me to plug it in here i...   \n",
       "1                          good case excellent value   \n",
       "2                              great for the jawbone   \n",
       "3  tied to charger for conversations lasting more...   \n",
       "4                                   the mic is great   \n",
       "5  i have to jiggle the plug to get it to line up...   \n",
       "6  if you have several dozen or several hundred c...   \n",
       "7           if you are razr owner you must have this   \n",
       "8                  needless to say i wasted my money   \n",
       "9                     what a waste of money and time   \n",
       "\n",
       "                                                text  \\\n",
       "0  so there is no way for me to plug it in here i...   \n",
       "1                          good case excellent value   \n",
       "2                              great for the jawbone   \n",
       "3  tied to charger for conversations lasting more...   \n",
       "4                                   the mic is great   \n",
       "5  i have to jiggle the plug to get it to line up...   \n",
       "6  if you have several dozen or several hundred c...   \n",
       "7           if you are razr owner you must have this   \n",
       "8                  needless to say i wasted my money   \n",
       "9                     what a waste of money and time   \n",
       "\n",
       "                                      tokenized_text  \n",
       "0  [so, there, is, no, way, for, me, to, plug, it...  \n",
       "1                     [good, case, excellent, value]  \n",
       "2                         [great, for, the, jawbone]  \n",
       "3  [tied, to, charger, for, conversations, lastin...  \n",
       "4                              [the, mic, is, great]  \n",
       "5  [i, have, to, jiggle, the, plug, to, get, it, ...  \n",
       "6  [if, you, have, several, dozen, or, several, h...  \n",
       "7  [if, you, are, razr, owner, you, must, have, t...  \n",
       "8          [needless, to, say, i, wasted, my, money]  \n",
       "9             [what, a, waste, of, money, and, time]  "
      ],
      "text/html": [
       "<div>\n",
       "<style scoped>\n",
       "    .dataframe tbody tr th:only-of-type {\n",
       "        vertical-align: middle;\n",
       "    }\n",
       "\n",
       "    .dataframe tbody tr th {\n",
       "        vertical-align: top;\n",
       "    }\n",
       "\n",
       "    .dataframe thead th {\n",
       "        text-align: right;\n",
       "    }\n",
       "</style>\n",
       "<table border=\"1\" class=\"dataframe\">\n",
       "  <thead>\n",
       "    <tr style=\"text-align: right;\">\n",
       "      <th></th>\n",
       "      <th>review</th>\n",
       "      <th>score</th>\n",
       "      <th>clean</th>\n",
       "      <th>low_review</th>\n",
       "      <th>text</th>\n",
       "      <th>tokenized_text</th>\n",
       "    </tr>\n",
       "  </thead>\n",
       "  <tbody>\n",
       "    <tr>\n",
       "      <th>0</th>\n",
       "      <td>So there is no way for me to plug it in here i...</td>\n",
       "      <td>0</td>\n",
       "      <td>So there is no way for me to plug it in here i...</td>\n",
       "      <td>so there is no way for me to plug it in here i...</td>\n",
       "      <td>so there is no way for me to plug it in here i...</td>\n",
       "      <td>[so, there, is, no, way, for, me, to, plug, it...</td>\n",
       "    </tr>\n",
       "    <tr>\n",
       "      <th>1</th>\n",
       "      <td>Good case, Excellent value.</td>\n",
       "      <td>1</td>\n",
       "      <td>Good case Excellent value</td>\n",
       "      <td>good case excellent value</td>\n",
       "      <td>good case excellent value</td>\n",
       "      <td>[good, case, excellent, value]</td>\n",
       "    </tr>\n",
       "    <tr>\n",
       "      <th>2</th>\n",
       "      <td>Great for the jawbone.</td>\n",
       "      <td>1</td>\n",
       "      <td>Great for the jawbone</td>\n",
       "      <td>great for the jawbone</td>\n",
       "      <td>great for the jawbone</td>\n",
       "      <td>[great, for, the, jawbone]</td>\n",
       "    </tr>\n",
       "    <tr>\n",
       "      <th>3</th>\n",
       "      <td>Tied to charger for conversations lasting more...</td>\n",
       "      <td>0</td>\n",
       "      <td>Tied to charger for conversations lasting more...</td>\n",
       "      <td>tied to charger for conversations lasting more...</td>\n",
       "      <td>tied to charger for conversations lasting more...</td>\n",
       "      <td>[tied, to, charger, for, conversations, lastin...</td>\n",
       "    </tr>\n",
       "    <tr>\n",
       "      <th>4</th>\n",
       "      <td>The mic is great.</td>\n",
       "      <td>1</td>\n",
       "      <td>The mic is great</td>\n",
       "      <td>the mic is great</td>\n",
       "      <td>the mic is great</td>\n",
       "      <td>[the, mic, is, great]</td>\n",
       "    </tr>\n",
       "    <tr>\n",
       "      <th>5</th>\n",
       "      <td>I have to jiggle the plug to get it to line up...</td>\n",
       "      <td>0</td>\n",
       "      <td>I have to jiggle the plug to get it to line up...</td>\n",
       "      <td>i have to jiggle the plug to get it to line up...</td>\n",
       "      <td>i have to jiggle the plug to get it to line up...</td>\n",
       "      <td>[i, have, to, jiggle, the, plug, to, get, it, ...</td>\n",
       "    </tr>\n",
       "    <tr>\n",
       "      <th>6</th>\n",
       "      <td>If you have several dozen or several hundred c...</td>\n",
       "      <td>0</td>\n",
       "      <td>If you have several dozen or several hundred c...</td>\n",
       "      <td>if you have several dozen or several hundred c...</td>\n",
       "      <td>if you have several dozen or several hundred c...</td>\n",
       "      <td>[if, you, have, several, dozen, or, several, h...</td>\n",
       "    </tr>\n",
       "    <tr>\n",
       "      <th>7</th>\n",
       "      <td>If you are Razr owner...you must have this!</td>\n",
       "      <td>1</td>\n",
       "      <td>If you are Razr owner you must have this</td>\n",
       "      <td>if you are razr owner you must have this</td>\n",
       "      <td>if you are razr owner you must have this</td>\n",
       "      <td>[if, you, are, razr, owner, you, must, have, t...</td>\n",
       "    </tr>\n",
       "    <tr>\n",
       "      <th>8</th>\n",
       "      <td>Needless to say, I wasted my money.</td>\n",
       "      <td>0</td>\n",
       "      <td>Needless to say I wasted my money</td>\n",
       "      <td>needless to say i wasted my money</td>\n",
       "      <td>needless to say i wasted my money</td>\n",
       "      <td>[needless, to, say, i, wasted, my, money]</td>\n",
       "    </tr>\n",
       "    <tr>\n",
       "      <th>9</th>\n",
       "      <td>What a waste of money and time!.</td>\n",
       "      <td>0</td>\n",
       "      <td>What a waste of money and time</td>\n",
       "      <td>what a waste of money and time</td>\n",
       "      <td>what a waste of money and time</td>\n",
       "      <td>[what, a, waste, of, money, and, time]</td>\n",
       "    </tr>\n",
       "  </tbody>\n",
       "</table>\n",
       "</div>"
      ]
     },
     "execution_count": 17,
     "metadata": {},
     "output_type": "execute_result"
    }
   ],
   "execution_count": 17
  },
  {
   "metadata": {
    "ExecuteTime": {
     "end_time": "2025-02-27T20:43:03.487133Z",
     "start_time": "2025-02-27T20:43:03.481283Z"
    }
   },
   "cell_type": "code",
   "source": [
    "#Assess reviews size and statistics before stopword removal\n",
    "df_reviews['word_count'] = df_reviews['tokenized_text'].str.len()\n",
    "word_stats = df_reviews['word_count'].describe()\n",
    "print(word_stats)"
   ],
   "id": "649245145c0ad3f8",
   "outputs": [
    {
     "name": "stdout",
     "output_type": "stream",
     "text": [
      "count    3000.000000\n",
      "mean       12.059667\n",
      "std         8.071048\n",
      "min         0.000000\n",
      "25%         6.000000\n",
      "50%        10.000000\n",
      "75%        16.000000\n",
      "max        74.000000\n",
      "Name: word_count, dtype: float64\n"
     ]
    }
   ],
   "execution_count": 18
  },
  {
   "metadata": {},
   "cell_type": "markdown",
   "source": "Stopwords were removed from the tokenized text. These are words that have a high occurrence rate but have little verbal importance (Bird et al., 2009, p. 60).",
   "id": "da87a58c0d985c50"
  },
  {
   "metadata": {
    "ExecuteTime": {
     "end_time": "2025-02-27T20:43:03.552850Z",
     "start_time": "2025-02-27T20:43:03.522999Z"
    }
   },
   "cell_type": "code",
   "source": [
    "# Remove stopwords using NLTK\n",
    "stop_words = stopwords.words('english')\n",
    "df_reviews['stopped'] = df_reviews['text'].apply(lambda x: [word for word in x.split() if word not in stop_words])\n",
    "df_reviews.head()"
   ],
   "id": "72b19795ac951fe0",
   "outputs": [
    {
     "data": {
      "text/plain": [
       "                                              review  score  \\\n",
       "0  So there is no way for me to plug it in here i...      0   \n",
       "1                        Good case, Excellent value.      1   \n",
       "2                             Great for the jawbone.      1   \n",
       "3  Tied to charger for conversations lasting more...      0   \n",
       "4                                  The mic is great.      1   \n",
       "\n",
       "                                               clean  \\\n",
       "0  So there is no way for me to plug it in here i...   \n",
       "1                          Good case Excellent value   \n",
       "2                              Great for the jawbone   \n",
       "3  Tied to charger for conversations lasting more...   \n",
       "4                                   The mic is great   \n",
       "\n",
       "                                          low_review  \\\n",
       "0  so there is no way for me to plug it in here i...   \n",
       "1                          good case excellent value   \n",
       "2                              great for the jawbone   \n",
       "3  tied to charger for conversations lasting more...   \n",
       "4                                   the mic is great   \n",
       "\n",
       "                                                text  \\\n",
       "0  so there is no way for me to plug it in here i...   \n",
       "1                          good case excellent value   \n",
       "2                              great for the jawbone   \n",
       "3  tied to charger for conversations lasting more...   \n",
       "4                                   the mic is great   \n",
       "\n",
       "                                      tokenized_text  word_count  \\\n",
       "0  [so, there, is, no, way, for, me, to, plug, it...          21   \n",
       "1                     [good, case, excellent, value]           4   \n",
       "2                         [great, for, the, jawbone]           4   \n",
       "3  [tied, to, charger, for, conversations, lastin...          11   \n",
       "4                              [the, mic, is, great]           4   \n",
       "\n",
       "                                             stopped  \n",
       "0             [way, plug, us, unless, go, converter]  \n",
       "1                     [good, case, excellent, value]  \n",
       "2                                   [great, jawbone]  \n",
       "3  [tied, charger, conversations, lasting, minute...  \n",
       "4                                       [mic, great]  "
      ],
      "text/html": [
       "<div>\n",
       "<style scoped>\n",
       "    .dataframe tbody tr th:only-of-type {\n",
       "        vertical-align: middle;\n",
       "    }\n",
       "\n",
       "    .dataframe tbody tr th {\n",
       "        vertical-align: top;\n",
       "    }\n",
       "\n",
       "    .dataframe thead th {\n",
       "        text-align: right;\n",
       "    }\n",
       "</style>\n",
       "<table border=\"1\" class=\"dataframe\">\n",
       "  <thead>\n",
       "    <tr style=\"text-align: right;\">\n",
       "      <th></th>\n",
       "      <th>review</th>\n",
       "      <th>score</th>\n",
       "      <th>clean</th>\n",
       "      <th>low_review</th>\n",
       "      <th>text</th>\n",
       "      <th>tokenized_text</th>\n",
       "      <th>word_count</th>\n",
       "      <th>stopped</th>\n",
       "    </tr>\n",
       "  </thead>\n",
       "  <tbody>\n",
       "    <tr>\n",
       "      <th>0</th>\n",
       "      <td>So there is no way for me to plug it in here i...</td>\n",
       "      <td>0</td>\n",
       "      <td>So there is no way for me to plug it in here i...</td>\n",
       "      <td>so there is no way for me to plug it in here i...</td>\n",
       "      <td>so there is no way for me to plug it in here i...</td>\n",
       "      <td>[so, there, is, no, way, for, me, to, plug, it...</td>\n",
       "      <td>21</td>\n",
       "      <td>[way, plug, us, unless, go, converter]</td>\n",
       "    </tr>\n",
       "    <tr>\n",
       "      <th>1</th>\n",
       "      <td>Good case, Excellent value.</td>\n",
       "      <td>1</td>\n",
       "      <td>Good case Excellent value</td>\n",
       "      <td>good case excellent value</td>\n",
       "      <td>good case excellent value</td>\n",
       "      <td>[good, case, excellent, value]</td>\n",
       "      <td>4</td>\n",
       "      <td>[good, case, excellent, value]</td>\n",
       "    </tr>\n",
       "    <tr>\n",
       "      <th>2</th>\n",
       "      <td>Great for the jawbone.</td>\n",
       "      <td>1</td>\n",
       "      <td>Great for the jawbone</td>\n",
       "      <td>great for the jawbone</td>\n",
       "      <td>great for the jawbone</td>\n",
       "      <td>[great, for, the, jawbone]</td>\n",
       "      <td>4</td>\n",
       "      <td>[great, jawbone]</td>\n",
       "    </tr>\n",
       "    <tr>\n",
       "      <th>3</th>\n",
       "      <td>Tied to charger for conversations lasting more...</td>\n",
       "      <td>0</td>\n",
       "      <td>Tied to charger for conversations lasting more...</td>\n",
       "      <td>tied to charger for conversations lasting more...</td>\n",
       "      <td>tied to charger for conversations lasting more...</td>\n",
       "      <td>[tied, to, charger, for, conversations, lastin...</td>\n",
       "      <td>11</td>\n",
       "      <td>[tied, charger, conversations, lasting, minute...</td>\n",
       "    </tr>\n",
       "    <tr>\n",
       "      <th>4</th>\n",
       "      <td>The mic is great.</td>\n",
       "      <td>1</td>\n",
       "      <td>The mic is great</td>\n",
       "      <td>the mic is great</td>\n",
       "      <td>the mic is great</td>\n",
       "      <td>[the, mic, is, great]</td>\n",
       "      <td>4</td>\n",
       "      <td>[mic, great]</td>\n",
       "    </tr>\n",
       "  </tbody>\n",
       "</table>\n",
       "</div>"
      ]
     },
     "execution_count": 19,
     "metadata": {},
     "output_type": "execute_result"
    }
   ],
   "execution_count": 19
  },
  {
   "metadata": {},
   "cell_type": "markdown",
   "source": "The text was then lemmatized, which is the process of changing a word to its base root. This differs from stemming, in that the word is not just taken down to its stem, but analyzed and changed to its root word. This process requires more linguistic analysis than stemming and involves using downloaded look up tables.  (Vajjala et al., 2020, p. 54).",
   "id": "9ec83c9511ae9776"
  },
  {
   "metadata": {
    "ExecuteTime": {
     "end_time": "2025-02-27T20:43:04.952783Z",
     "start_time": "2025-02-27T20:43:03.580624Z"
    }
   },
   "cell_type": "code",
   "source": [
    "#Lemmatize the reviews\n",
    "#Create WordNetLemmatizer object\n",
    "wnl = WordNetLemmatizer()\n",
    "df_reviews['lemmatized'] = df_reviews['stopped'].apply(lambda x: ' '.join([wnl.lemmatize(word) for word in x]))\n",
    "df_reviews.head()"
   ],
   "id": "60b736b67f53ef9d",
   "outputs": [
    {
     "data": {
      "text/plain": [
       "                                              review  score  \\\n",
       "0  So there is no way for me to plug it in here i...      0   \n",
       "1                        Good case, Excellent value.      1   \n",
       "2                             Great for the jawbone.      1   \n",
       "3  Tied to charger for conversations lasting more...      0   \n",
       "4                                  The mic is great.      1   \n",
       "\n",
       "                                               clean  \\\n",
       "0  So there is no way for me to plug it in here i...   \n",
       "1                          Good case Excellent value   \n",
       "2                              Great for the jawbone   \n",
       "3  Tied to charger for conversations lasting more...   \n",
       "4                                   The mic is great   \n",
       "\n",
       "                                          low_review  \\\n",
       "0  so there is no way for me to plug it in here i...   \n",
       "1                          good case excellent value   \n",
       "2                              great for the jawbone   \n",
       "3  tied to charger for conversations lasting more...   \n",
       "4                                   the mic is great   \n",
       "\n",
       "                                                text  \\\n",
       "0  so there is no way for me to plug it in here i...   \n",
       "1                          good case excellent value   \n",
       "2                              great for the jawbone   \n",
       "3  tied to charger for conversations lasting more...   \n",
       "4                                   the mic is great   \n",
       "\n",
       "                                      tokenized_text  word_count  \\\n",
       "0  [so, there, is, no, way, for, me, to, plug, it...          21   \n",
       "1                     [good, case, excellent, value]           4   \n",
       "2                         [great, for, the, jawbone]           4   \n",
       "3  [tied, to, charger, for, conversations, lastin...          11   \n",
       "4                              [the, mic, is, great]           4   \n",
       "\n",
       "                                             stopped  \\\n",
       "0             [way, plug, us, unless, go, converter]   \n",
       "1                     [good, case, excellent, value]   \n",
       "2                                   [great, jawbone]   \n",
       "3  [tied, charger, conversations, lasting, minute...   \n",
       "4                                       [mic, great]   \n",
       "\n",
       "                                          lemmatized  \n",
       "0                     way plug u unless go converter  \n",
       "1                          good case excellent value  \n",
       "2                                      great jawbone  \n",
       "3  tied charger conversation lasting minute major...  \n",
       "4                                          mic great  "
      ],
      "text/html": [
       "<div>\n",
       "<style scoped>\n",
       "    .dataframe tbody tr th:only-of-type {\n",
       "        vertical-align: middle;\n",
       "    }\n",
       "\n",
       "    .dataframe tbody tr th {\n",
       "        vertical-align: top;\n",
       "    }\n",
       "\n",
       "    .dataframe thead th {\n",
       "        text-align: right;\n",
       "    }\n",
       "</style>\n",
       "<table border=\"1\" class=\"dataframe\">\n",
       "  <thead>\n",
       "    <tr style=\"text-align: right;\">\n",
       "      <th></th>\n",
       "      <th>review</th>\n",
       "      <th>score</th>\n",
       "      <th>clean</th>\n",
       "      <th>low_review</th>\n",
       "      <th>text</th>\n",
       "      <th>tokenized_text</th>\n",
       "      <th>word_count</th>\n",
       "      <th>stopped</th>\n",
       "      <th>lemmatized</th>\n",
       "    </tr>\n",
       "  </thead>\n",
       "  <tbody>\n",
       "    <tr>\n",
       "      <th>0</th>\n",
       "      <td>So there is no way for me to plug it in here i...</td>\n",
       "      <td>0</td>\n",
       "      <td>So there is no way for me to plug it in here i...</td>\n",
       "      <td>so there is no way for me to plug it in here i...</td>\n",
       "      <td>so there is no way for me to plug it in here i...</td>\n",
       "      <td>[so, there, is, no, way, for, me, to, plug, it...</td>\n",
       "      <td>21</td>\n",
       "      <td>[way, plug, us, unless, go, converter]</td>\n",
       "      <td>way plug u unless go converter</td>\n",
       "    </tr>\n",
       "    <tr>\n",
       "      <th>1</th>\n",
       "      <td>Good case, Excellent value.</td>\n",
       "      <td>1</td>\n",
       "      <td>Good case Excellent value</td>\n",
       "      <td>good case excellent value</td>\n",
       "      <td>good case excellent value</td>\n",
       "      <td>[good, case, excellent, value]</td>\n",
       "      <td>4</td>\n",
       "      <td>[good, case, excellent, value]</td>\n",
       "      <td>good case excellent value</td>\n",
       "    </tr>\n",
       "    <tr>\n",
       "      <th>2</th>\n",
       "      <td>Great for the jawbone.</td>\n",
       "      <td>1</td>\n",
       "      <td>Great for the jawbone</td>\n",
       "      <td>great for the jawbone</td>\n",
       "      <td>great for the jawbone</td>\n",
       "      <td>[great, for, the, jawbone]</td>\n",
       "      <td>4</td>\n",
       "      <td>[great, jawbone]</td>\n",
       "      <td>great jawbone</td>\n",
       "    </tr>\n",
       "    <tr>\n",
       "      <th>3</th>\n",
       "      <td>Tied to charger for conversations lasting more...</td>\n",
       "      <td>0</td>\n",
       "      <td>Tied to charger for conversations lasting more...</td>\n",
       "      <td>tied to charger for conversations lasting more...</td>\n",
       "      <td>tied to charger for conversations lasting more...</td>\n",
       "      <td>[tied, to, charger, for, conversations, lastin...</td>\n",
       "      <td>11</td>\n",
       "      <td>[tied, charger, conversations, lasting, minute...</td>\n",
       "      <td>tied charger conversation lasting minute major...</td>\n",
       "    </tr>\n",
       "    <tr>\n",
       "      <th>4</th>\n",
       "      <td>The mic is great.</td>\n",
       "      <td>1</td>\n",
       "      <td>The mic is great</td>\n",
       "      <td>the mic is great</td>\n",
       "      <td>the mic is great</td>\n",
       "      <td>[the, mic, is, great]</td>\n",
       "      <td>4</td>\n",
       "      <td>[mic, great]</td>\n",
       "      <td>mic great</td>\n",
       "    </tr>\n",
       "  </tbody>\n",
       "</table>\n",
       "</div>"
      ]
     },
     "execution_count": 20,
     "metadata": {},
     "output_type": "execute_result"
    }
   ],
   "execution_count": 20
  },
  {
   "metadata": {},
   "cell_type": "markdown",
   "source": [
    "###### Vocabulary Size\n",
    "The vocabulary size was determined based on the number of unique words."
   ],
   "id": "64ae1d095e5866f"
  },
  {
   "metadata": {
    "ExecuteTime": {
     "end_time": "2025-02-27T20:43:04.997695Z",
     "start_time": "2025-02-27T20:43:04.992434Z"
    }
   },
   "cell_type": "code",
   "source": [
    "#Find vocab size using unique words across all reviews\n",
    "vocabulary_size = len(set([word for tokens in df_reviews['lemmatized'].str.split() for word in tokens]))\n",
    "print(f\"Vocabulary size: {vocabulary_size}\")"
   ],
   "id": "8855c5a520ef1d71",
   "outputs": [
    {
     "name": "stdout",
     "output_type": "stream",
     "text": [
      "Vocabulary size: 4541\n"
     ]
    }
   ],
   "execution_count": 21
  },
  {
   "metadata": {},
   "cell_type": "markdown",
   "source": [
    "##### Tokenizer Class\n",
    "\n",
    "Using the Keras Tokenizer library, a vocabulary mapping was created with each unique word assigned a numeric index value. The texts were then converted into sequences of these numeric values by applying this mapping. This sequence encoding allows the text data to be processed by the neural network."
   ],
   "id": "5f22a5fdbe61ffcd"
  },
  {
   "metadata": {
    "ExecuteTime": {
     "end_time": "2025-02-27T20:43:05.073910Z",
     "start_time": "2025-02-27T20:43:05.044356Z"
    }
   },
   "cell_type": "code",
   "source": [
    "# Vocab mapping and sequencing\n",
    "tokenizer = Tokenizer(num_words=vocabulary_size, oov_token='<oov>')\n",
    "# Fit the tokenizer\n",
    "tokenizer.fit_on_texts(df_reviews['lemmatized'])\n",
    "word_index = tokenizer.word_index\n",
    "# Convert text to sequences of tokens\n",
    "df_reviews['token_seq'] = tokenizer.texts_to_sequences(df_reviews['lemmatized'])\n",
    "# verify conversion to tokens\n",
    "df_reviews['token_seq'].head(10)"
   ],
   "id": "10eb7c88e4ac4faf",
   "outputs": [
    {
     "data": {
      "text/plain": [
       "0                       [42, 244, 98, 462, 23, 2000]\n",
       "1                                   [2, 57, 33, 306]\n",
       "2                                           [4, 944]\n",
       "3                [2001, 120, 615, 945, 58, 1298, 73]\n",
       "4                                           [741, 4]\n",
       "5             [2002, 244, 24, 109, 66, 24, 371, 267]\n",
       "6    [268, 946, 268, 2003, 742, 947, 328, 743, 7, 7]\n",
       "7                                    [616, 372, 152]\n",
       "8                                 [948, 53, 329, 77]\n",
       "9                                        [69, 77, 8]\n",
       "Name: token_seq, dtype: object"
      ]
     },
     "execution_count": 22,
     "metadata": {},
     "output_type": "execute_result"
    }
   ],
   "execution_count": 22
  },
  {
   "metadata": {},
   "cell_type": "markdown",
   "source": [
    "###### Sequence Length\n",
    "Statistical analysis of review length to determine sequence length to be used for padding. The distribution of tokens per review showed a maximum length of 44 tokens with the 99th percentile at 20 tokens. Due to the small size of the dataset (3000 rows) the decision was made to use the maximum length of 44 tokens as the padding length in order to keep as much information as possible for the analysis. The justification for the maximum sequence length was addressed earlier in Section B1 and can be seen [here](#B1:-Exploratory-Data-Analysis) in the forth bullet point."
   ],
   "id": "4b04f5637a7f5af"
  },
  {
   "metadata": {
    "ExecuteTime": {
     "end_time": "2025-02-27T20:43:05.235978Z",
     "start_time": "2025-02-27T20:43:05.103947Z"
    }
   },
   "cell_type": "code",
   "source": [
    "# Get the sequence lengths\n",
    "sequence_lengths = df_reviews['token_seq'].str.len()\n",
    "\n",
    "# Calculate percentiles\n",
    "print(\"Percentiles:\")\n",
    "print(sequence_lengths.quantile([0.8, 0.9, 0.95, 0.99]))\n",
    "\n",
    "# Create histogram\n",
    "plt.figure(figsize=(6, 4))\n",
    "plt.hist(sequence_lengths, bins=30, edgecolor='black')\n",
    "plt.axvline(x=sequence_lengths.quantile(0.95), color='r', linestyle='--',\n",
    "            label=f'95th percentile: {sequence_lengths.quantile(0.95):.0f}')\n",
    "plt.axvline(x=sequence_lengths.quantile(0.99), color='g', linestyle='--', label=f'99th percentile: {sequence_lengths.quantile(0.99):.0f}')\n",
    "plt.title('Distribution of Sequence Lengths')\n",
    "plt.xlabel('Sequence Length')\n",
    "plt.ylabel('Frequency')\n",
    "plt.legend()\n",
    "plt.show()"
   ],
   "id": "55e81161ccc7a61f",
   "outputs": [
    {
     "name": "stdout",
     "output_type": "stream",
     "text": [
      "Percentiles:\n",
      "0.80     9.0\n",
      "0.90    11.0\n",
      "0.95    13.0\n",
      "0.99    20.0\n",
      "Name: token_seq, dtype: float64\n"
     ]
    },
    {
     "data": {
      "text/plain": [
       "<Figure size 600x400 with 1 Axes>"
      ],
      "image/png": "[encoded data removed]"
     },
     "metadata": {},
     "output_type": "display_data"
    }
   ],
   "execution_count": 23
  },
  {
   "metadata": {
    "ExecuteTime": {
     "end_time": "2025-02-27T20:43:05.288218Z",
     "start_time": "2025-02-27T20:43:05.271866Z"
    }
   },
   "cell_type": "code",
   "source": [
    "#Token count\n",
    "df_reviews['token_count'] = df_reviews['token_seq'].str.len()\n",
    "df_reviews['unique_tokens'] = df_reviews['token_seq'].apply(lambda x: len(set(x)))\n",
    "df_reviews.head(10)"
   ],
   "id": "15f14c820828c744",
   "outputs": [
    {
     "data": {
      "text/plain": [
       "                                              review  score  \\\n",
       "0  So there is no way for me to plug it in here i...      0   \n",
       "1                        Good case, Excellent value.      1   \n",
       "2                             Great for the jawbone.      1   \n",
       "3  Tied to charger for conversations lasting more...      0   \n",
       "4                                  The mic is great.      1   \n",
       "5  I have to jiggle the plug to get it to line up...      0   \n",
       "6  If you have several dozen or several hundred c...      0   \n",
       "7        If you are Razr owner...you must have this!      1   \n",
       "8                Needless to say, I wasted my money.      0   \n",
       "9                   What a waste of money and time!.      0   \n",
       "\n",
       "                                               clean  \\\n",
       "0  So there is no way for me to plug it in here i...   \n",
       "1                          Good case Excellent value   \n",
       "2                              Great for the jawbone   \n",
       "3  Tied to charger for conversations lasting more...   \n",
       "4                                   The mic is great   \n",
       "5  I have to jiggle the plug to get it to line up...   \n",
       "6  If you have several dozen or several hundred c...   \n",
       "7           If you are Razr owner you must have this   \n",
       "8                  Needless to say I wasted my money   \n",
       "9                     What a waste of money and time   \n",
       "\n",
       "                                          low_review  \\\n",
       "0  so there is no way for me to plug it in here i...   \n",
       "1                          good case excellent value   \n",
       "2                              great for the jawbone   \n",
       "3  tied to charger for conversations lasting more...   \n",
       "4                                   the mic is great   \n",
       "5  i have to jiggle the plug to get it to line up...   \n",
       "6  if you have several dozen or several hundred c...   \n",
       "7           if you are razr owner you must have this   \n",
       "8                  needless to say i wasted my money   \n",
       "9                     what a waste of money and time   \n",
       "\n",
       "                                                text  \\\n",
       "0  so there is no way for me to plug it in here i...   \n",
       "1                          good case excellent value   \n",
       "2                              great for the jawbone   \n",
       "3  tied to charger for conversations lasting more...   \n",
       "4                                   the mic is great   \n",
       "5  i have to jiggle the plug to get it to line up...   \n",
       "6  if you have several dozen or several hundred c...   \n",
       "7           if you are razr owner you must have this   \n",
       "8                  needless to say i wasted my money   \n",
       "9                     what a waste of money and time   \n",
       "\n",
       "                                      tokenized_text  word_count  \\\n",
       "0  [so, there, is, no, way, for, me, to, plug, it...          21   \n",
       "1                     [good, case, excellent, value]           4   \n",
       "2                         [great, for, the, jawbone]           4   \n",
       "3  [tied, to, charger, for, conversations, lastin...          11   \n",
       "4                              [the, mic, is, great]           4   \n",
       "5  [i, have, to, jiggle, the, plug, to, get, it, ...          17   \n",
       "6  [if, you, have, several, dozen, or, several, h...          21   \n",
       "7  [if, you, are, razr, owner, you, must, have, t...           9   \n",
       "8          [needless, to, say, i, wasted, my, money]           7   \n",
       "9             [what, a, waste, of, money, and, time]           7   \n",
       "\n",
       "                                             stopped  \\\n",
       "0             [way, plug, us, unless, go, converter]   \n",
       "1                     [good, case, excellent, value]   \n",
       "2                                   [great, jawbone]   \n",
       "3  [tied, charger, conversations, lasting, minute...   \n",
       "4                                       [mic, great]   \n",
       "5  [jiggle, plug, get, line, right, get, decent, ...   \n",
       "6  [several, dozen, several, hundred, contacts, i...   \n",
       "7                                [razr, owner, must]   \n",
       "8                     [needless, say, wasted, money]   \n",
       "9                               [waste, money, time]   \n",
       "\n",
       "                                          lemmatized  \\\n",
       "0                     way plug u unless go converter   \n",
       "1                          good case excellent value   \n",
       "2                                      great jawbone   \n",
       "3  tied charger conversation lasting minute major...   \n",
       "4                                          mic great   \n",
       "5       jiggle plug get line right get decent volume   \n",
       "6  several dozen several hundred contact imagine ...   \n",
       "7                                    razr owner must   \n",
       "8                          needless say wasted money   \n",
       "9                                   waste money time   \n",
       "\n",
       "                                         token_seq  token_count  unique_tokens  \n",
       "0                     [42, 244, 98, 462, 23, 2000]            6              6  \n",
       "1                                 [2, 57, 33, 306]            4              4  \n",
       "2                                         [4, 944]            2              2  \n",
       "3              [2001, 120, 615, 945, 58, 1298, 73]            7              7  \n",
       "4                                         [741, 4]            2              2  \n",
       "5           [2002, 244, 24, 109, 66, 24, 371, 267]            8              7  \n",
       "6  [268, 946, 268, 2003, 742, 947, 328, 743, 7, 7]           10              8  \n",
       "7                                  [616, 372, 152]            3              3  \n",
       "8                               [948, 53, 329, 77]            4              4  \n",
       "9                                      [69, 77, 8]            3              3  "
      ],
      "text/html": [
       "<div>\n",
       "<style scoped>\n",
       "    .dataframe tbody tr th:only-of-type {\n",
       "        vertical-align: middle;\n",
       "    }\n",
       "\n",
       "    .dataframe tbody tr th {\n",
       "        vertical-align: top;\n",
       "    }\n",
       "\n",
       "    .dataframe thead th {\n",
       "        text-align: right;\n",
       "    }\n",
       "</style>\n",
       "<table border=\"1\" class=\"dataframe\">\n",
       "  <thead>\n",
       "    <tr style=\"text-align: right;\">\n",
       "      <th></th>\n",
       "      <th>review</th>\n",
       "      <th>score</th>\n",
       "      <th>clean</th>\n",
       "      <th>low_review</th>\n",
       "      <th>text</th>\n",
       "      <th>tokenized_text</th>\n",
       "      <th>word_count</th>\n",
       "      <th>stopped</th>\n",
       "      <th>lemmatized</th>\n",
       "      <th>token_seq</th>\n",
       "      <th>token_count</th>\n",
       "      <th>unique_tokens</th>\n",
       "    </tr>\n",
       "  </thead>\n",
       "  <tbody>\n",
       "    <tr>\n",
       "      <th>0</th>\n",
       "      <td>So there is no way for me to plug it in here i...</td>\n",
       "      <td>0</td>\n",
       "      <td>So there is no way for me to plug it in here i...</td>\n",
       "      <td>so there is no way for me to plug it in here i...</td>\n",
       "      <td>so there is no way for me to plug it in here i...</td>\n",
       "      <td>[so, there, is, no, way, for, me, to, plug, it...</td>\n",
       "      <td>21</td>\n",
       "      <td>[way, plug, us, unless, go, converter]</td>\n",
       "      <td>way plug u unless go converter</td>\n",
       "      <td>[42, 244, 98, 462, 23, 2000]</td>\n",
       "      <td>6</td>\n",
       "      <td>6</td>\n",
       "    </tr>\n",
       "    <tr>\n",
       "      <th>1</th>\n",
       "      <td>Good case, Excellent value.</td>\n",
       "      <td>1</td>\n",
       "      <td>Good case Excellent value</td>\n",
       "      <td>good case excellent value</td>\n",
       "      <td>good case excellent value</td>\n",
       "      <td>[good, case, excellent, value]</td>\n",
       "      <td>4</td>\n",
       "      <td>[good, case, excellent, value]</td>\n",
       "      <td>good case excellent value</td>\n",
       "      <td>[2, 57, 33, 306]</td>\n",
       "      <td>4</td>\n",
       "      <td>4</td>\n",
       "    </tr>\n",
       "    <tr>\n",
       "      <th>2</th>\n",
       "      <td>Great for the jawbone.</td>\n",
       "      <td>1</td>\n",
       "      <td>Great for the jawbone</td>\n",
       "      <td>great for the jawbone</td>\n",
       "      <td>great for the jawbone</td>\n",
       "      <td>[great, for, the, jawbone]</td>\n",
       "      <td>4</td>\n",
       "      <td>[great, jawbone]</td>\n",
       "      <td>great jawbone</td>\n",
       "      <td>[4, 944]</td>\n",
       "      <td>2</td>\n",
       "      <td>2</td>\n",
       "    </tr>\n",
       "    <tr>\n",
       "      <th>3</th>\n",
       "      <td>Tied to charger for conversations lasting more...</td>\n",
       "      <td>0</td>\n",
       "      <td>Tied to charger for conversations lasting more...</td>\n",
       "      <td>tied to charger for conversations lasting more...</td>\n",
       "      <td>tied to charger for conversations lasting more...</td>\n",
       "      <td>[tied, to, charger, for, conversations, lastin...</td>\n",
       "      <td>11</td>\n",
       "      <td>[tied, charger, conversations, lasting, minute...</td>\n",
       "      <td>tied charger conversation lasting minute major...</td>\n",
       "      <td>[2001, 120, 615, 945, 58, 1298, 73]</td>\n",
       "      <td>7</td>\n",
       "      <td>7</td>\n",
       "    </tr>\n",
       "    <tr>\n",
       "      <th>4</th>\n",
       "      <td>The mic is great.</td>\n",
       "      <td>1</td>\n",
       "      <td>The mic is great</td>\n",
       "      <td>the mic is great</td>\n",
       "      <td>the mic is great</td>\n",
       "      <td>[the, mic, is, great]</td>\n",
       "      <td>4</td>\n",
       "      <td>[mic, great]</td>\n",
       "      <td>mic great</td>\n",
       "      <td>[741, 4]</td>\n",
       "      <td>2</td>\n",
       "      <td>2</td>\n",
       "    </tr>\n",
       "    <tr>\n",
       "      <th>5</th>\n",
       "      <td>I have to jiggle the plug to get it to line up...</td>\n",
       "      <td>0</td>\n",
       "      <td>I have to jiggle the plug to get it to line up...</td>\n",
       "      <td>i have to jiggle the plug to get it to line up...</td>\n",
       "      <td>i have to jiggle the plug to get it to line up...</td>\n",
       "      <td>[i, have, to, jiggle, the, plug, to, get, it, ...</td>\n",
       "      <td>17</td>\n",
       "      <td>[jiggle, plug, get, line, right, get, decent, ...</td>\n",
       "      <td>jiggle plug get line right get decent volume</td>\n",
       "      <td>[2002, 244, 24, 109, 66, 24, 371, 267]</td>\n",
       "      <td>8</td>\n",
       "      <td>7</td>\n",
       "    </tr>\n",
       "    <tr>\n",
       "      <th>6</th>\n",
       "      <td>If you have several dozen or several hundred c...</td>\n",
       "      <td>0</td>\n",
       "      <td>If you have several dozen or several hundred c...</td>\n",
       "      <td>if you have several dozen or several hundred c...</td>\n",
       "      <td>if you have several dozen or several hundred c...</td>\n",
       "      <td>[if, you, have, several, dozen, or, several, h...</td>\n",
       "      <td>21</td>\n",
       "      <td>[several, dozen, several, hundred, contacts, i...</td>\n",
       "      <td>several dozen several hundred contact imagine ...</td>\n",
       "      <td>[268, 946, 268, 2003, 742, 947, 328, 743, 7, 7]</td>\n",
       "      <td>10</td>\n",
       "      <td>8</td>\n",
       "    </tr>\n",
       "    <tr>\n",
       "      <th>7</th>\n",
       "      <td>If you are Razr owner...you must have this!</td>\n",
       "      <td>1</td>\n",
       "      <td>If you are Razr owner you must have this</td>\n",
       "      <td>if you are razr owner you must have this</td>\n",
       "      <td>if you are razr owner you must have this</td>\n",
       "      <td>[if, you, are, razr, owner, you, must, have, t...</td>\n",
       "      <td>9</td>\n",
       "      <td>[razr, owner, must]</td>\n",
       "      <td>razr owner must</td>\n",
       "      <td>[616, 372, 152]</td>\n",
       "      <td>3</td>\n",
       "      <td>3</td>\n",
       "    </tr>\n",
       "    <tr>\n",
       "      <th>8</th>\n",
       "      <td>Needless to say, I wasted my money.</td>\n",
       "      <td>0</td>\n",
       "      <td>Needless to say I wasted my money</td>\n",
       "      <td>needless to say i wasted my money</td>\n",
       "      <td>needless to say i wasted my money</td>\n",
       "      <td>[needless, to, say, i, wasted, my, money]</td>\n",
       "      <td>7</td>\n",
       "      <td>[needless, say, wasted, money]</td>\n",
       "      <td>needless say wasted money</td>\n",
       "      <td>[948, 53, 329, 77]</td>\n",
       "      <td>4</td>\n",
       "      <td>4</td>\n",
       "    </tr>\n",
       "    <tr>\n",
       "      <th>9</th>\n",
       "      <td>What a waste of money and time!.</td>\n",
       "      <td>0</td>\n",
       "      <td>What a waste of money and time</td>\n",
       "      <td>what a waste of money and time</td>\n",
       "      <td>what a waste of money and time</td>\n",
       "      <td>[what, a, waste, of, money, and, time]</td>\n",
       "      <td>7</td>\n",
       "      <td>[waste, money, time]</td>\n",
       "      <td>waste money time</td>\n",
       "      <td>[69, 77, 8]</td>\n",
       "      <td>3</td>\n",
       "      <td>3</td>\n",
       "    </tr>\n",
       "  </tbody>\n",
       "</table>\n",
       "</div>"
      ]
     },
     "execution_count": 24,
     "metadata": {},
     "output_type": "execute_result"
    }
   ],
   "execution_count": 24
  },
  {
   "metadata": {
    "ExecuteTime": {
     "end_time": "2025-02-27T20:43:05.347332Z",
     "start_time": "2025-02-27T20:43:05.341627Z"
    }
   },
   "cell_type": "code",
   "source": [
    "# Get token count stats\n",
    "print(df_reviews['token_seq'].str.len().describe())"
   ],
   "id": "1ac1a25c248f8a6c",
   "outputs": [
    {
     "name": "stdout",
     "output_type": "stream",
     "text": [
      "count    3000.000000\n",
      "mean        6.012000\n",
      "std         4.139674\n",
      "min         0.000000\n",
      "25%         3.000000\n",
      "50%         5.000000\n",
      "75%         8.000000\n",
      "max        44.000000\n",
      "Name: token_seq, dtype: float64\n"
     ]
    }
   ],
   "execution_count": 25
  },
  {
   "metadata": {},
   "cell_type": "markdown",
   "source": [
    "### B3: Padding\n",
    "In order to input the sequences into a neural network, it must be in a uniform shape (Caner, 2020). At this point in the analysis, each row has a different sequence length. This problem can be solved through a process called padding. To make all sequences equal length, value 0 is used as a placeholder. The neural network will not view it as an actual zero value when doing the analysis.\n",
    "\n",
    "The padding can take place at the beginning of each sequence, or at the end. For this analysis, padding was done after the sequences, meaning that each sequence of values was filled to 44 spaces with zeros. This choice of what type of padding to use can be seen in the code as `padding= 'post'` .\n",
    "\n",
    "A single padded sequence can be seen [here](#Padded-Sequence-Example)."
   ],
   "id": "624fd9894c47c7ca"
  },
  {
   "metadata": {
    "ExecuteTime": {
     "end_time": "2025-02-27T20:43:05.403731Z",
     "start_time": "2025-02-27T20:43:05.396121Z"
    }
   },
   "cell_type": "code",
   "source": [
    "#Padded the sequenced sentences\n",
    "padded = pad_sequences(df_reviews['token_seq'], padding= 'post',  maxlen=44)"
   ],
   "id": "450b558090849efc",
   "outputs": [],
   "execution_count": 26
  },
  {
   "metadata": {
    "ExecuteTime": {
     "end_time": "2025-02-27T20:43:05.508243Z",
     "start_time": "2025-02-27T20:43:05.504669Z"
    }
   },
   "cell_type": "code",
   "source": "print(padded.shape)",
   "id": "355a665b90002324",
   "outputs": [
    {
     "name": "stdout",
     "output_type": "stream",
     "text": [
      "(3000, 44)\n"
     ]
    }
   ],
   "execution_count": 27
  },
  {
   "metadata": {},
   "cell_type": "markdown",
   "source": [
    "###### Padded Sequence Example\n",
    "An example of a single padded sequence is in the cell below."
   ],
   "id": "f99445b4011a467d"
  },
  {
   "metadata": {
    "ExecuteTime": {
     "end_time": "2025-02-27T20:43:05.552706Z",
     "start_time": "2025-02-27T20:43:05.549229Z"
    }
   },
   "cell_type": "code",
   "source": "print(padded[0])",
   "id": "f4a6380ad724a87e",
   "outputs": [
    {
     "name": "stdout",
     "output_type": "stream",
     "text": [
      "[  42  244   98  462   23 2000    0    0    0    0    0    0    0    0\n",
      "    0    0    0    0    0    0    0    0    0    0    0    0    0    0\n",
      "    0    0    0    0    0    0    0    0    0    0    0    0    0    0\n",
      "    0    0]\n"
     ]
    }
   ],
   "execution_count": 28
  },
  {
   "metadata": {
    "ExecuteTime": {
     "end_time": "2025-02-27T20:43:05.586577Z",
     "start_time": "2025-02-27T20:43:05.583102Z"
    }
   },
   "cell_type": "code",
   "source": [
    "#Check that data is in an array for loading into Keras\n",
    "print(type(padded))"
   ],
   "id": "4ffc4dc10832b268",
   "outputs": [
    {
     "name": "stdout",
     "output_type": "stream",
     "text": [
      "<class 'numpy.ndarray'>\n"
     ]
    }
   ],
   "execution_count": 29
  },
  {
   "metadata": {
    "ExecuteTime": {
     "end_time": "2025-02-27T20:43:05.610923Z",
     "start_time": "2025-02-27T20:43:05.608837Z"
    }
   },
   "cell_type": "code",
   "source": [
    "# Convert y(target value) to numpy\n",
    "score = df_reviews['score'].to_numpy()"
   ],
   "id": "6e78f2a8c96fe9f0",
   "outputs": [],
   "execution_count": 30
  },
  {
   "metadata": {
    "ExecuteTime": {
     "end_time": "2025-02-27T20:43:05.624692Z",
     "start_time": "2025-02-27T20:43:05.622056Z"
    }
   },
   "cell_type": "code",
   "source": [
    "# Combine for a final array\n",
    "combined_array = np.column_stack((padded, score))\n",
    "print(combined_array)"
   ],
   "id": "b3c32c8d1bf00731",
   "outputs": [
    {
     "name": "stdout",
     "output_type": "stream",
     "text": [
      "[[  42  244   98 ...    0    0    0]\n",
      " [   2   57   33 ...    0    0    1]\n",
      " [   4  944    0 ...    0    0    1]\n",
      " ...\n",
      " [ 172  153   17 ...    0    0    0]\n",
      " [ 256   79 1891 ...    0    0    0]\n",
      " [ 329   61   83 ...    0    0    0]]\n"
     ]
    }
   ],
   "execution_count": 31
  },
  {
   "metadata": {},
   "cell_type": "markdown",
   "source": [
    "### B4: Sentiment Categories\n",
    "For this sentiment analysis two categories will be used, negative and positive. The positive reviews have a 1 value and the negative reviews have 0 value. The distribution of the sentiment scores was visualized early on in the analysis, and can be seen [here](#Sentiment-Scores).\n",
    "\n",
    "Since this is a binary classification, the activation function for the final layer of the NN will be a sigmoid activation. The mathematical representation of the sigmoid function is :\n",
    "\n",
    "$f(x) = \\frac{1}{1 + e^{-x}}$\n",
    "\n",
    "The sigmoid function can be thought of as \"squishing\" all values into a range between 0 and 1, where very negative values are closer to 0, and very positive number is closer to 1. The curve can be thought of as the probability of a particular result occurring. This makes it very useful for classification tasks in the output layer (Ali, 2024)."
   ],
   "id": "d1c1c97302bb9163"
  },
  {
   "metadata": {},
   "cell_type": "markdown",
   "source": [
    " ### B5: Data Cleaning and Splits\n",
    "The following section highlights the data cleaning steps taken for this sentiment analysis. Although many cells contain code for verification of the cleaning process, only steps that directly contributed to data preparation are documented in this section. Some extra exploratory steps were taken for educational purposes which can be seen in the analysis, though they were not strictly required for this project.\n",
    "\n",
    "- Imported necessary packages and libraries\n",
    "- Uploaded and joined the three data sets\n",
    "- Examine the data and shape of the data\n",
    "- Clean the text\n",
    "  - Removal of special characters, emojis, numbers\n",
    "  - Convert all text to lower case\n",
    "  - Removed contractions\n",
    "- Split Sentences into word tokens\n",
    "- Removed stop words from data\n",
    "- Performed lemmatization of word tokens\n",
    "- Text converted to sequences using Keras Tokenizer\n",
    "- Examined statistic of sequence distribution and determined max sequence length to use for padding\n",
    "- Padding applied post sequences\n",
    "- All data converted to array for use in neural network\n",
    "\n",
    "The cleaned data was then split into Data split into 3 parts: training, validation, and test. The training data was 80%, while the validation and the test data each were each 10% of the data. This 80/10/10 split is a widely used industry standard (Baheti, 2021). The data split can be seen in the cell below."
   ],
   "id": "a7245ae19bc2808e"
  },
  {
   "metadata": {
    "ExecuteTime": {
     "end_time": "2025-02-27T20:43:05.644865Z",
     "start_time": "2025-02-27T20:43:05.640617Z"
    }
   },
   "cell_type": "code",
   "source": [
    "#Split the data into train, validate, test\n",
    "X = padded\n",
    "y = score\n",
    "# First split: separate test set (10% of data)\n",
    "X_temp, X_test, y_temp, y_test = train_test_split(X, y, test_size=0.1, random_state=42)\n",
    "# Second split: divide remaining data into train and validation\n",
    "# 0.111 = 10/90 to get 10% of original data for validation\n",
    "X_train, X_val, y_train, y_val = train_test_split(X_temp, y_temp, test_size=0.111111, random_state=42)\n",
    "# To verify the split sizes:\n",
    "print(f\"Training set size: {len(X_train)} ({len(X_train)/len(X)*100:.1f}%)\")\n",
    "print(f\"Validation set size: {len(X_val)} ({len(X_val)/len(X)*100:.1f}%)\")\n",
    "print(f\"Test set size: {len(X_test)} ({len(X_test)/len(X)*100:.1f}%)\")"
   ],
   "id": "2a86a97b28fdf447",
   "outputs": [
    {
     "name": "stdout",
     "output_type": "stream",
     "text": [
      "Training set size: 2400 (80.0%)\n",
      "Validation set size: 300 (10.0%)\n",
      "Test set size: 300 (10.0%)\n"
     ]
    }
   ],
   "execution_count": 32
  },
  {
   "metadata": {},
   "cell_type": "markdown",
   "source": [
    "### B6: Cleaned Data\n",
    "The cleaned and prepared data set was downloaded as both a CSV and Numpy array."
   ],
   "id": "7216eb3cf902389c"
  },
  {
   "metadata": {
    "ExecuteTime": {
     "end_time": "2025-02-27T20:43:05.675113Z",
     "start_time": "2025-02-27T20:43:05.663277Z"
    }
   },
   "cell_type": "code",
   "source": [
    "# Save as numpy array\n",
    "np.save('PBier_213_pt2.npy', combined_array)\n",
    "# Save as CSV\n",
    "pd.DataFrame(combined_array).to_csv('PBier_213_pt2.csv', index=False)"
   ],
   "id": "bd516e9ee3649899",
   "outputs": [],
   "execution_count": 33
  },
  {
   "metadata": {},
   "cell_type": "markdown",
   "source": [
    "## Part III: Neural Network\n",
    "----------------------"
   ],
   "id": "a20b49307036bbcc"
  },
  {
   "metadata": {},
   "cell_type": "markdown",
   "source": [
    "###### Embedding Layer Values\n",
    "Calculate values for the embedding layer within the LSTM model. This layer is where the input tokens are converted into vectors that the network can interpret."
   ],
   "id": "764ef8e69a554718"
  },
  {
   "metadata": {
    "ExecuteTime": {
     "end_time": "2025-02-27T20:43:05.689382Z",
     "start_time": "2025-02-27T20:43:05.686210Z"
    }
   },
   "cell_type": "code",
   "source": [
    "# Embedding will be done within the model\n",
    "# For input_dim (vocabulary size)\n",
    "vocab_size = len(word_index) + 1\n",
    "# Calculate fourth root for embedding dimension - output_dimension\n",
    "embedding_dim = int(vocab_size ** 0.25)\n",
    "#Get max sequence length - input length\n",
    "max_length = max(df_reviews['token_seq'].str.len())\n",
    "\n",
    "print(f\"Vocabulary Size: {vocab_size:,}\")\n",
    "print(f\"Recommended Embedding Dimension (fourth root): {embedding_dim}\")\n",
    "print(f\"Max Sequence Length: {max_length}\")"
   ],
   "id": "8862ffe154e4a3c4",
   "outputs": [
    {
     "name": "stdout",
     "output_type": "stream",
     "text": [
      "Vocabulary Size: 4,543\n",
      "Recommended Embedding Dimension (fourth root): 8\n",
      "Max Sequence Length: 44\n"
     ]
    }
   ],
   "execution_count": 34
  },
  {
   "metadata": {
    "ExecuteTime": {
     "end_time": "2025-02-27T20:43:05.711375Z",
     "start_time": "2025-02-27T20:43:05.709204Z"
    }
   },
   "cell_type": "code",
   "source": [
    "# Code to set seed for reproducibility of model\n",
    "# Enable deterministic operations\n",
    "os.environ['TF_DETERMINISTIC_OPS'] = '1'\n",
    "os.environ['PYTHONHASHSEED'] = '0'\n",
    "tf.config.experimental.enable_op_determinism()\n",
    "#Set seed\n",
    "np.random.seed(123)\n",
    "tf.random.set_seed(123)\n",
    "random.seed(123)"
   ],
   "id": "706891f5de63f8ed",
   "outputs": [],
   "execution_count": 35
  },
  {
   "metadata": {},
   "cell_type": "markdown",
   "source": [
    "### C1: Model Summary\n",
    "For this project, a bidirectional short-term memory model (BiLSTM) was built. The `model.summary()` function was used to view the architecture of the model. The model below is the initial model."
   ],
   "id": "91c259728f6760c3"
  },
  {
   "metadata": {
    "ExecuteTime": {
     "end_time": "2025-02-27T20:43:05.812425Z",
     "start_time": "2025-02-27T20:43:05.714865Z"
    }
   },
   "cell_type": "code",
   "source": [
    "#Build the primary model. Bidirectional LSTM model\n",
    "model = Sequential()\n",
    "model.add(Embedding(input_dim=vocab_size,\n",
    "                   output_dim= embedding_dim,\n",
    "                   input_length=max_length))\n",
    "model.add(Masking(mask_value=0))\n",
    "model.add(Bidirectional(LSTM(units=64, activation='relu', return_sequences=True)))\n",
    "model.add(GlobalAveragePooling1D())\n",
    "model.add(Dropout(0.2))\n",
    "model.add(Dense(units=32, activation='relu')),   # Added intermediate dense layer\n",
    "model.add(Dropout(0.2))\n",
    "model.add(Dense(units=1, activation='sigmoid'))\n",
    "\n",
    "model.compile(optimizer=Adam(learning_rate=0.0005),\n",
    "             loss='binary_crossentropy',\n",
    "             metrics=['accuracy'])\n"
   ],
   "id": "e16dde276eceb02",
   "outputs": [],
   "execution_count": 36
  },
  {
   "metadata": {
    "ExecuteTime": {
     "end_time": "2025-02-27T20:43:05.831682Z",
     "start_time": "2025-02-27T20:43:05.823506Z"
    }
   },
   "cell_type": "code",
   "source": "model.summary()",
   "id": "93bf1e7661bb77ef",
   "outputs": [
    {
     "name": "stdout",
     "output_type": "stream",
     "text": [
      "Model: \"sequential\"\n",
      "_________________________________________________________________\n",
      " Layer (type)                Output Shape              Param #   \n",
      "=================================================================\n",
      " embedding (Embedding)       (None, 44, 8)             36344     \n",
      "                                                                 \n",
      " masking (Masking)           (None, 44, 8)             0         \n",
      "                                                                 \n",
      " bidirectional (Bidirectiona  (None, 44, 128)          37376     \n",
      " l)                                                              \n",
      "                                                                 \n",
      " global_average_pooling1d (G  (None, 128)              0         \n",
      " lobalAveragePooling1D)                                          \n",
      "                                                                 \n",
      " dropout (Dropout)           (None, 128)               0         \n",
      "                                                                 \n",
      " dense (Dense)               (None, 32)                4128      \n",
      "                                                                 \n",
      " dropout_1 (Dropout)         (None, 32)                0         \n",
      "                                                                 \n",
      " dense_1 (Dense)             (None, 1)                 33        \n",
      "                                                                 \n",
      "=================================================================\n",
      "Total params: 77,881\n",
      "Trainable params: 77,881\n",
      "Non-trainable params: 0\n",
      "_________________________________________________________________\n"
     ]
    }
   ],
   "execution_count": 37
  },
  {
   "metadata": {},
   "cell_type": "markdown",
   "source": [
    "### C2: Network Layers\n",
    "\n",
    "The model architecture consists of 8 layers:\n",
    "\n",
    "1. Embedding layer: The input tokens are converted into vectors that the network can interpret. There are 8 dimensions per token, the vocabulary size of 4,543 words, which leads to 36,344 parameters for this layer.\n",
    "\n",
    "2. Masking layer: Manages the padding in sequences by acting as a filter for the 0 value, so that the model is not learning from this padded value.\n",
    "\n",
    "3. Bidirectional LSTM layer: The sequences are analyzed both forwards and backwards. There are 37,376 parameters in this layer.\n",
    "\n",
    "4. GlobalAveragePooling1D layer: The dimension of the sequences is reduced through averaging, which in turn reduces the number of parameters. This reduction helps reduce the problem of overfitting.\n",
    "\n",
    "5. Dropout layer: Some nodes are randomly turned off, allowing the network to learn from other features rather than becoming dependent on any specific parameters. These layers also help address the overfitting problem that can occur in neural networks.\n",
    "\n",
    "6. Dense layer: Information from the previous layers is analyzed collectively; abstracted learning takes place. All previous layers converge to 32 nodes. There are 4,128 parameters at this layer.\n",
    "\n",
    "7. Dropout layer: Second dropout layer.\n",
    "\n",
    "8. Dense layer: This is the final layer where the parameters are again analyzed and reduced to a binary classification for the output layer. This final layer has 33 parameters.\n",
    "\n",
    "Total parameters: 77,881 (all trainable)\n"
   ],
   "id": "b02f88d84f80b3ad"
  },
  {
   "metadata": {},
   "cell_type": "markdown",
   "source": [
    "### C3: Hyperparameters\n",
    "When building a NN, hyperparameters must be set to help adjust the learning progress of the model. The primary model had several different hyperparameters to set.\n",
    "\n",
    "* Activation functions:\n",
    "  * The Rectified Linear Unit (ReLU) activation function was used for the BiLSTM layer as well as the first dense layer. This addresses the problem of the vanishing gradient by keeping the scale of the outputs during the backward propagation phase of the learning process.\n",
    "\n",
    "     f(x) = max(0, x)\n",
    "\n",
    "  * A Sigmoid activation function was used for the final dense layer. It is frequently used in binary classification models since it scales the data to a probability of occurring between the values of 0 to 1. The output layer uses sigmoid for binary classification (Ali, 2024).\n",
    "\n",
    "     f(x) = 1 / (1 + e^-x)\n",
    "\n",
    "* Number of nodes per layer:\n",
    "  * Embedding dimension- 8 nodes: This value was chosen based on the common rule of taking the fourth root of the size of the vocabulary, as discussed in section [B1](#B1:-Exploratory-Data-Analysis).\n",
    "\n",
    "  * Bidirectional layer: 64 units per direction (128 total): The value chosen is a power of 2 number which is considered a computationally efficient value. This layer is bidirectional, creating a total of 128 features.\n",
    "\n",
    "  * First dense layer: 32 nodes: This layer continues to reduce dimensionality, while also maintaining the thought process of using values that are a power of 2.\n",
    "\n",
    "  * Output layer- 1 node: One node is used with a sigmoid activation function since it is a binary classification task.\n",
    "\n",
    "* Loss Function: During the model's learning process, it is important to have methods that help reduce the prediction errors. Loss functions help adjust the weights between the nodes during the learning process to help minimize the errors. Binary Cross-Entropy (BCE) was used for the loss function in the model as it is well suited for binary classification models due to its penalization for wrong classifications (Sanchhaya, 2024).\n",
    "\n",
    "* Optimizer: The Adaptive Moment Estimation (Adam) optimizer was used in the BiLSTM model. An optimizer is an algorithm that helps adjust the parameters in order to improve a models' performance. The Adam optimizer performs well with NLP and NNs (Wei, 2024).\n",
    "\n",
    "* Stopping Criteria: This model had two criteria for stopping. The early stopping criterion used the validation loss (`val_loss`) metric to determine if no improvement had occurred for five epochs. Since this metric is looking at how well the model is performing on unseen data, it is preferred over the accuracy metric for early stopping (Brownlee, 2019).The second stopping criteria was number of epochs set when the model was fit to the data, which was 50. This is a large number, that allowed the possibility of a longer training time, while still creating a hard stop for the model if the early stopping criteria was not used. Both the [early stopping](#Early-Stopping) and the [model fit](#Fit-the-Model) criteria can be seen in the two cells below.\n",
    "\n",
    "* Evaluation Metric: The evaluation metric of the model is accuracy, which measures how often a prediction matches with an actual value. This is calculated at the end of each epoch.\n",
    "\n",
    "  $\\text{Accuracy} = \\frac{\\text{Number of Correct Predictions}}{\\text{Total Number of Predictions}} = \\frac{TP + TN}{TP + TN + FP + FN}$\n",
    "\n",
    "* Learning Rate: The learning rate affects the speed at which the model learns. Higher learning rates learn faster, but may skip over important gradient weight updates, while very low learning rates can significantly slow the model's performance dor may even become stuck on a poor solution.  The learning rate is considered by some experts in the machine learning field one of the most important hyperparameters in a NN model. A recommended starting value is between less than 1 and greater than 10^-6 (Brownlee, 2019). The value for the initial BiLSTM was chosen in the middle, at a value of 0.0005."
   ],
   "id": "40d6ec3645d9bd56"
  },
  {
   "metadata": {},
   "cell_type": "markdown",
   "source": [
    "## Part IV: Evaluation\n",
    "------------------"
   ],
   "id": "ef77c18cd932a49a"
  },
  {
   "metadata": {},
   "cell_type": "markdown",
   "source": [
    "### D1: Stopping Criteria\n",
    "\n",
    "The early stopping criterion used the validation loss (`val_loss`) metric to determine if no improvement had occurred for five epochs. The number of epochs was set to 50. This is a large number, that allowed the possibility of a longer training time, while still creating a hard stop for the model if the early stopping criteria was not used.\n",
    "\n",
    "The early stopping criteria was activated and the model stopped at 10 epochs. This implies that the model had stopped learning and had an increasing validation data loss during the training process. By early stopping, the model is prevented from overfitting and simply \"memorizing\" the data through more training epochs.\n",
    "\n",
    "* The [final epoch](#Fit-the-Model) can be seen below the model fit.\n",
    "  * Epoch 10/50\n",
    "75/75 [==============================] - 1s 13ms/step - loss: 0.0964 - accuracy: 0.9696 - val_loss: 1.0436 - val_accuracy: 0.8000\n",
    "\n",
    "\n",
    "\n",
    "* Early stopping has an option to `restore_best_weights`, which means that after the model has stopped, the epoch that had the best values before the stop criteria was met are the actual values that are used in the model. The [best values](#Evaluation-Metrics) were at epoch 6.\n",
    "  * Epoch 6/50\n",
    "75/75 [==============================] - 1s 13ms/step - loss: 0.1956 - accuracy: 0.9392 - val_loss: 0.5083 - val_accuracy: 0.8133\n"
   ],
   "id": "87b0f8dc63c53a67"
  },
  {
   "metadata": {},
   "cell_type": "markdown",
   "source": "###### Early Stopping",
   "id": "20a275841538a820"
  },
  {
   "metadata": {
    "ExecuteTime": {
     "end_time": "2025-02-27T20:43:05.847558Z",
     "start_time": "2025-02-27T20:43:05.845733Z"
    }
   },
   "cell_type": "code",
   "source": [
    "# Add Early stopping\n",
    "early_stop = EarlyStopping(\n",
    "    monitor='val_loss',\n",
    "    patience=5,\n",
    "    restore_best_weights=True,\n",
    "    mode='min',\n",
    ")"
   ],
   "id": "2a3bc5eb93371fa1",
   "outputs": [],
   "execution_count": 38
  },
  {
   "metadata": {},
   "cell_type": "markdown",
   "source": "###### Fit the Model",
   "id": "bb51caffc8f5133d"
  },
  {
   "metadata": {
    "ExecuteTime": {
     "end_time": "2025-02-27T20:43:19.963520Z",
     "start_time": "2025-02-27T20:43:09.268225Z"
    }
   },
   "cell_type": "code",
   "source": [
    "# Fit Model\n",
    "history = model.fit(\n",
    "    X_train,\n",
    "    y_train,\n",
    "    epochs=50,\n",
    "    batch_size=32,\n",
    "    validation_data=(X_val, y_val),\n",
    "    callbacks=[early_stop]\n",
    ")"
   ],
   "id": "1e5ca885ae88bc73",
   "outputs": [
    {
     "name": "stdout",
     "output_type": "stream",
     "text": [
      "Epoch 1/50\n"
     ]
    },
    {
     "name": "stderr",
     "output_type": "stream",
     "text": [
      "2025-02-27 13:43:09.316045: W tensorflow/tsl/platform/profile_utils/cpu_utils.cc:128] Failed to get CPU frequency: 0 Hz\n"
     ]
    },
    {
     "name": "stdout",
     "output_type": "stream",
     "text": [
      "75/75 [==============================] - 1s 11ms/step - loss: 0.6932 - accuracy: 0.5017 - val_loss: 0.6929 - val_accuracy: 0.5233\n",
      "Epoch 2/50\n",
      "75/75 [==============================] - 1s 13ms/step - loss: 0.6926 - accuracy: 0.5371 - val_loss: 0.6914 - val_accuracy: 0.4767\n",
      "Epoch 3/50\n",
      "75/75 [==============================] - 1s 14ms/step - loss: 0.5766 - accuracy: 0.7504 - val_loss: 0.5965 - val_accuracy: 0.7433\n",
      "Epoch 4/50\n",
      "75/75 [==============================] - 1s 14ms/step - loss: 0.4992 - accuracy: 0.7808 - val_loss: 0.5085 - val_accuracy: 0.7800\n",
      "Epoch 5/50\n",
      "75/75 [==============================] - 1s 14ms/step - loss: 0.3105 - accuracy: 0.8904 - val_loss: 0.4556 - val_accuracy: 0.7900\n",
      "Epoch 6/50\n",
      "75/75 [==============================] - 1s 14ms/step - loss: 0.1956 - accuracy: 0.9392 - val_loss: 0.5083 - val_accuracy: 0.8133\n",
      "Epoch 7/50\n",
      "75/75 [==============================] - 1s 13ms/step - loss: 0.1437 - accuracy: 0.9563 - val_loss: 0.6340 - val_accuracy: 0.8000\n",
      "Epoch 8/50\n",
      "75/75 [==============================] - 1s 14ms/step - loss: 0.1145 - accuracy: 0.9671 - val_loss: 0.6956 - val_accuracy: 0.7967\n",
      "Epoch 9/50\n",
      "75/75 [==============================] - 1s 14ms/step - loss: 0.1136 - accuracy: 0.9683 - val_loss: 0.6951 - val_accuracy: 0.7933\n",
      "Epoch 10/50\n",
      "75/75 [==============================] - 1s 14ms/step - loss: 0.0964 - accuracy: 0.9696 - val_loss: 1.0436 - val_accuracy: 0.8000\n"
     ]
    }
   ],
   "execution_count": 39
  },
  {
   "metadata": {},
   "cell_type": "markdown",
   "source": [
    "### D2: Model Fitness Evaluation\n",
    "\n",
    "* Fitness of Model: The accuracy and training loss were compared in both the training and validation data. While the training data had both high accuracy (0.97) and low training loss(0.096), the validation data did not perform as well (accuracy: 0.80, loss: 1.04) implying that there may be some overfitting of the model. This was confirmed by the generalization gap, which is the accuracy difference between the training data and the validation data, with lower values indicating a better fit (Zhang et al., 2023). This model has a gap of 17%, indicating overfitting. The metrics can be viewed in the cell below.\n",
    "\n",
    "* Addressing Overfitting: To improve the model, the overfitting was addressed in two ways. The first was to add L2 regularization to the first dense layer, and the second was building an Optuna optimizer study to find the best values for hyperparameter tuning.\n",
    "  * L2 Regularization - Regularization will apply a penalty to the loss function for the layer it is applied to, which is a means of simplifying the model. The L2 class is suited to learning patterns such as those in NLP models (Sagar, 2019).\n",
    "  * Optuna Study — An optimizer was [created here](#Create-Optuna-optimizer-study) to fine tune the hyperparameters. Optuna (Preferred Networks, Inc., 2024) is known for being computationally faster than GridSearch CV, since it learns from each previous iteration. It also used a continuous scale for any given hyperparameter to search through, rather than just using specific defined values. Due to the ability to learn, it is able to stop any search that is not valuable in improving the model's outcome, leading to a greatly decreased search time (Akinremi, 2024). Once the new hyperparameters were found, a final model was created.\n",
    "    * Hyperparameters evaluated in the study (Restack, 2025) included:\n",
    "      * Embedding dimension\n",
    "      * LSTM layer nodes\n",
    "      * Dense layer nodes\n",
    "      * Dropout rate for both dropout layers\n",
    "      * L2 Regularization\n",
    "      * Learning rate\n",
    "      * Batch size\n",
    "      * Epochs\n",
    "      * Activation function for the LSTM layer\n",
    "      * Activation functions for the initial dense layer\n",
    "\n",
    "Note.  The final model was used for analysis in section D4 and all later sections and can be found [here](#Create-Final-Model).\n"
   ],
   "id": "d951c3b460a32537"
  },
  {
   "metadata": {},
   "cell_type": "markdown",
   "source": [
    "###### Evaluation Metrics\n",
    "The loss and accuracy metrics were used for evaluation of the model."
   ],
   "id": "ac08f4ea1df6b5"
  },
  {
   "metadata": {
    "ExecuteTime": {
     "end_time": "2025-02-27T20:45:32.744788Z",
     "start_time": "2025-02-27T20:45:32.739474Z"
    }
   },
   "cell_type": "code",
   "source": [
    "#Create function for overfitting analysis\n",
    "def check_overfitting(history):\n",
    "    train_acc = history.history['accuracy'][-1]\n",
    "    val_acc = history.history['val_accuracy'][-1]\n",
    "    train_loss = history.history['loss'][-1]\n",
    "    val_loss = history.history['val_loss'][-1]\n",
    "    gap = train_acc - val_acc\n",
    "    best_epoch = early_stop.best_epoch + 1\n",
    "\n",
    "    print(f'\\nFinal Metrics:')\n",
    "    print(f'Training Accuracy: {train_acc:.3f}')\n",
    "    print(f'Validation Accuracy: {val_acc:.3f}')\n",
    "    print(f'Training Loss: {train_loss:.3f}')\n",
    "    print(f'Validation Loss: {val_loss:.3f}')\n",
    "    print('\\nOverfitting:')\n",
    "    print(f'Generalization Gap: {gap:.3f} ({gap*100:.1f}%)')\n",
    "    print(f'Best Epoch: {best_epoch + 1}')\n",
    "\n",
    "check_overfitting(history)"
   ],
   "id": "66cb3424693b99bd",
   "outputs": [
    {
     "name": "stdout",
     "output_type": "stream",
     "text": [
      "\n",
      "Final Metrics:\n",
      "Training Accuracy: 0.970\n",
      "Validation Accuracy: 0.800\n",
      "Training Loss: 0.096\n",
      "Validation Loss: 1.044\n",
      "\n",
      "Overfitting:\n",
      "Generalization Gap: 0.170 (17.0%)\n",
      "Best Epoch: 6\n"
     ]
    }
   ],
   "execution_count": 40
  },
  {
   "metadata": {
    "ExecuteTime": {
     "end_time": "2025-02-27T20:45:36.908828Z",
     "start_time": "2025-02-27T20:45:36.904982Z"
    }
   },
   "cell_type": "code",
   "source": [
    "# Create function for accuracy and loss visualization\n",
    "def fit_overfit(history, epochs):\n",
    "    actual_epochs = len(history.history['accuracy'])\n",
    "    epoch_range = range(actual_epochs)\n",
    "    # Loss\n",
    "    plt.figure(figsize=(10, 5))\n",
    "    plt.plot(epoch_range, history.history['loss'])\n",
    "    plt.plot(epoch_range, history.history['val_loss'])\n",
    "    plt.title('Model Loss')\n",
    "    plt.ylabel('Loss')\n",
    "    plt.xlabel('Epoch')\n",
    "    plt.legend(['Training Data', 'Validation Data'], loc='upper left')\n",
    "    plt.show()\n",
    "    # Accuracy\n",
    "    plt.figure(figsize=(10, 5))\n",
    "    plt.plot(epoch_range, history.history['accuracy'])\n",
    "    plt.plot(epoch_range, history.history['val_accuracy'])\n",
    "    plt.title('Model Accuracy')\n",
    "    plt.ylabel('Accuracy')\n",
    "    plt.xlabel('Epoch')\n",
    "    plt.legend(['Training Data', 'Validation Data'], loc='upper left')\n",
    "    plt.show()\n"
   ],
   "id": "b6aba344661ee9ac",
   "outputs": [],
   "execution_count": 41
  },
  {
   "metadata": {},
   "cell_type": "markdown",
   "source": [
    "### D3: Model Training Visualization\n",
    "A visualization of the training process was created, using both the loss and accuracy metrics from the model. The loss graph shows that the training data had decreasing loss, while the validation data plateaued or increased. The accuracy graph shows the improvement of the training data, while the validation data levels off. This is indicative of the model memorizing the data, rather than learning the data (Boros, 2023). Both of these graphs reinforce that overfitting is occurring with this initial model."
   ],
   "id": "d89627c48b324752"
  },
  {
   "metadata": {
    "ExecuteTime": {
     "end_time": "2025-02-27T20:45:42.032425Z",
     "start_time": "2025-02-27T20:45:41.843990Z"
    }
   },
   "cell_type": "code",
   "source": "fit_overfit(history,10)",
   "id": "b28c05718f1a2c4a",
   "outputs": [
    {
     "data": {
      "text/plain": [
       "<Figure size 1000x500 with 1 Axes>"
      ],
      "image/png": "[encoded data removed]"
     },
     "metadata": {},
     "output_type": "display_data"
    },
    {
     "data": {
      "text/plain": [
       "<Figure size 1000x500 with 1 Axes>"
      ],
      "image/png": "[encoded data removed]"
     },
     "metadata": {},
     "output_type": "display_data"
    }
   ],
   "execution_count": 42
  },
  {
   "metadata": {},
   "cell_type": "markdown",
   "source": "##### Create Optuna optimizer study",
   "id": "b8bf8324be4ed269"
  },
  {
   "metadata": {
    "ExecuteTime": {
     "end_time": "2025-02-27T20:45:49.214716Z",
     "start_time": "2025-02-27T20:45:49.204117Z"
    }
   },
   "cell_type": "code",
   "source": [
    "# Ensure reproducibility of Optuna study\n",
    "def set_all_seeds(seed):\n",
    "    random.seed(seed)\n",
    "    np.random.seed(seed)\n",
    "    tf.random.set_seed(seed)\n",
    "    return optuna.samplers.TPESampler(seed=seed)\n",
    "\n",
    "SEED = 42\n",
    "tf.keras.utils.set_random_seed(SEED)\n",
    "sampler = set_all_seeds(SEED)\n",
    "study = optuna.create_study(direction=\"maximize\", sampler=sampler)\n",
    "# Force deterministic operations in TensorFlow\n",
    "tf.config.experimental.enable_op_determinism()"
   ],
   "id": "c1a0bca9d244bc50",
   "outputs": [],
   "execution_count": 43
  },
  {
   "metadata": {
    "ExecuteTime": {
     "end_time": "2025-02-27T21:14:19.076534Z",
     "start_time": "2025-02-27T20:45:50.497196Z"
    }
   },
   "cell_type": "code",
   "source": [
    "# Create Optuna hyperparameter tuning model\n",
    "tf.keras.backend.clear_session()\n",
    "\n",
    "def create_model(trial):\n",
    "    embedding_dim = trial.suggest_int('embedding_dim', 8, 70)\n",
    "    lstm_units = trial.suggest_int('lstm_units', 40, 80)\n",
    "    dense_units = trial.suggest_int('dense_units', 16, 48)\n",
    "    dropout_rate = trial.suggest_float('dropout_rate', 0.01, 0.3)\n",
    "    dropout_rate_2 = trial.suggest_float('dropout_rate_2', 0.01, 0.2)\n",
    "    l2_rate = trial.suggest_float('l2_rate', 1e-4, 0.01, log=True)\n",
    "    learning_rate = trial.suggest_float('learning_rate', 5e-5, 5e-2, log=True)\n",
    "    batch_size = trial.suggest_categorical('batch_size', [8, 16, 32, 64, 120])\n",
    "    epochs = trial.suggest_int('epochs', 10, 50)\n",
    "    lstm_activation = trial.suggest_categorical('lstm_activation',\n",
    "                                              ['tanh', 'relu', 'elu', 'selu', 'swish'])\n",
    "    dense_activation = trial.suggest_categorical('dense_activation',\n",
    "                                               ['relu', 'elu', 'selu', 'tanh', 'swish'])\n",
    "\n",
    "    model = Sequential([\n",
    "        Embedding(input_dim=vocab_size, output_dim=embedding_dim, input_length=max_length),\n",
    "        Masking(mask_value=0),\n",
    "        Bidirectional(LSTM(units=lstm_units, activation=lstm_activation, return_sequences=True)),\n",
    "        GlobalAveragePooling1D(),\n",
    "        Dropout(dropout_rate),\n",
    "        Dense(units=dense_units, activation=dense_activation, kernel_regularizer=tf.keras.regularizers.l2(l2_rate)),\n",
    "        Dropout(dropout_rate_2),\n",
    "        Dense(units=1, activation='sigmoid')\n",
    "    ])\n",
    "\n",
    "    model.compile(optimizer=Adam(learning_rate=learning_rate),\n",
    "                 loss='binary_crossentropy',\n",
    "                 metrics=['accuracy'])\n",
    "\n",
    "    return model, batch_size, epochs\n",
    "\n",
    "def objective(trial):\n",
    "    tf.keras.backend.clear_session()\n",
    "    random.seed(SEED)\n",
    "    np.random.seed(SEED)\n",
    "    tf.random.set_seed(SEED)\n",
    "\n",
    "    model, batch_size, epochs = create_model(trial)\n",
    "\n",
    "    early_stop = EarlyStopping(\n",
    "        monitor='val_loss',\n",
    "        patience=5,\n",
    "        restore_best_weights=True,\n",
    "        mode='min'\n",
    "    )\n",
    "\n",
    "    history = model.fit(\n",
    "        X_train, y_train,\n",
    "        epochs=epochs,\n",
    "        batch_size=batch_size,\n",
    "        validation_data=(X_val, y_val),\n",
    "        callbacks=[early_stop],\n",
    "        verbose=0\n",
    ")\n",
    "\n",
    "    val_accuracy = max(history.history['val_accuracy'])\n",
    "    return val_accuracy\n",
    "\n",
    "# Create and run the study\n",
    "study = optuna.create_study(direction='maximize', sampler=sampler)\n",
    "\n",
    "def callback(study, trial):\n",
    "    if trial.value == study.best_value:\n",
    "        print(f'\\nTrial {trial.number + 1}/100 - New best value: {trial.value:.4f}')\n",
    "\n",
    "study.optimize(objective, n_trials=100, n_jobs=1, callbacks=[callback])\n",
    "\n",
    "print('\\nBest trial:')\n",
    "print('  Value: ', study.best_trial.value)\n",
    "print('  Params: ')\n",
    "for key, value in study.best_trial.params.items():\n",
    "    print(f'    {key}: {value}')\n"
   ],
   "id": "4c088f1f4371ad65",
   "outputs": [
    {
     "name": "stdout",
     "output_type": "stream",
     "text": [
      "\n",
      "Trial 1/100 - New best value: 0.8067\n",
      "\n",
      "Trial 8/100 - New best value: 0.8200\n",
      "\n",
      "Trial 14/100 - New best value: 0.8200\n",
      "\n",
      "Trial 19/100 - New best value: 0.8200\n",
      "\n",
      "Trial 51/100 - New best value: 0.8200\n",
      "\n",
      "Trial 72/100 - New best value: 0.8200\n",
      "\n",
      "Trial 74/100 - New best value: 0.8267\n",
      "\n",
      "Best trial:\n",
      "  Value:  0.8266666531562805\n",
      "  Params: \n",
      "    embedding_dim: 34\n",
      "    lstm_units: 75\n",
      "    dense_units: 32\n",
      "    dropout_rate: 0.15750933053636024\n",
      "    dropout_rate_2: 0.02356700836408479\n",
      "    l2_rate: 0.0006159911335190898\n",
      "    learning_rate: 0.00018642389987091966\n",
      "    batch_size: 32\n",
      "    epochs: 13\n",
      "    lstm_activation: swish\n",
      "    dense_activation: swish\n"
     ]
    }
   ],
   "execution_count": 44
  },
  {
   "metadata": {},
   "cell_type": "markdown",
   "source": [
    "###### Create Final Model\n",
    "The new hyperparameter values were used to build the new model, including the L2 regularization in the dense layer."
   ],
   "id": "84d15cc34a1a5147"
  },
  {
   "metadata": {
    "ExecuteTime": {
     "end_time": "2025-02-27T21:15:04.050748Z",
     "start_time": "2025-02-27T21:14:51.337182Z"
    }
   },
   "cell_type": "code",
   "source": [
    "#Clear session to prevent \"sticking\"\n",
    "tf.keras.backend.clear_session()\n",
    "# Create Final Model\n",
    "model1 = Sequential()\n",
    "model1.add(Embedding(input_dim=vocab_size,\n",
    "                   output_dim=34,\n",
    "                   input_length=max_length))\n",
    "model1.add(Bidirectional(LSTM(units=75, activation='swish', return_sequences=True)))\n",
    "model1.add(GlobalAveragePooling1D())\n",
    "model1.add(Dropout(0.1575))\n",
    "model1.add(Dense(units=32, activation='swish', kernel_regularizer=tf.keras.regularizers.l2(0.0006)),)\n",
    "model1.add(Dropout(0.0236))\n",
    "model1.add(Dense(units=1, activation='sigmoid'))\n",
    "\n",
    "model1.compile(optimizer=Adam(learning_rate=0.000186),\n",
    "             loss='binary_crossentropy',\n",
    "             metrics=['accuracy'])\n",
    "\n",
    "early_stop = EarlyStopping(\n",
    "    monitor='val_loss',\n",
    "    patience=2,\n",
    "    restore_best_weights=True)\n",
    "\n",
    "history1 = model1.fit(\n",
    "    X_train,\n",
    "    y_train,\n",
    "    epochs=13,\n",
    "    batch_size= 32,\n",
    "    validation_data=(X_val, y_val),\n",
    "    callbacks=[early_stop]\n",
    ")"
   ],
   "id": "f0a8de0fe0a1c195",
   "outputs": [
    {
     "name": "stdout",
     "output_type": "stream",
     "text": [
      "Epoch 1/13\n",
      "75/75 [==============================] - 1s 11ms/step - loss: 0.7213 - accuracy: 0.5046 - val_loss: 0.7179 - val_accuracy: 0.5233\n",
      "Epoch 2/13\n",
      "75/75 [==============================] - 1s 15ms/step - loss: 0.7154 - accuracy: 0.5029 - val_loss: 0.7127 - val_accuracy: 0.5233\n",
      "Epoch 3/13\n",
      "75/75 [==============================] - 1s 16ms/step - loss: 0.7108 - accuracy: 0.5029 - val_loss: 0.7085 - val_accuracy: 0.5233\n",
      "Epoch 4/13\n",
      "75/75 [==============================] - 1s 17ms/step - loss: 0.7069 - accuracy: 0.5029 - val_loss: 0.7050 - val_accuracy: 0.5233\n",
      "Epoch 5/13\n",
      "75/75 [==============================] - 1s 17ms/step - loss: 0.7037 - accuracy: 0.5029 - val_loss: 0.7022 - val_accuracy: 0.5233\n",
      "Epoch 6/13\n",
      "75/75 [==============================] - 1s 17ms/step - loss: 0.7008 - accuracy: 0.5192 - val_loss: 0.6992 - val_accuracy: 0.5267\n",
      "Epoch 7/13\n",
      "75/75 [==============================] - 1s 17ms/step - loss: 0.6561 - accuracy: 0.6721 - val_loss: 0.6387 - val_accuracy: 0.7733\n",
      "Epoch 8/13\n",
      "75/75 [==============================] - 1s 17ms/step - loss: 0.4808 - accuracy: 0.8771 - val_loss: 0.4966 - val_accuracy: 0.7733\n",
      "Epoch 9/13\n",
      "75/75 [==============================] - 1s 18ms/step - loss: 0.4227 - accuracy: 0.8629 - val_loss: 0.5494 - val_accuracy: 0.7367\n",
      "Epoch 10/13\n",
      "75/75 [==============================] - 1s 17ms/step - loss: 0.3347 - accuracy: 0.9075 - val_loss: 0.5106 - val_accuracy: 0.7933\n"
     ]
    }
   ],
   "execution_count": 45
  },
  {
   "metadata": {},
   "cell_type": "markdown",
   "source": [
    "### D4: Final Model Accuracy\n",
    "The final model had decreased accuracy and approximately the same validation accuracy in the training data. The generalization gap decreased to 11.4%, indicating less overfitting in the model. This can be seen the new line graphs of the loss and accuracy values [here](#Final-Model-Training-Visualization).\n",
    "\n",
    "The test data that was held out was fit to the model to determine the [predictive accuracy](#Predictive-accuracy) of the final model. A 77% accuracy score was obtained, although the loss value of .50 indicates the models is not fully confident in the predictions.\n",
    "\n",
    "A [confusion matrix](#Confusion-Matrix) was made to evaluate the actual predictions made with the test data. There were 115 true positives and 21 false positives.\n",
    "\n",
    "  The model had a [precision](#Precision,-Recall,-and-F1-Score) of 85%, meaning that 85% of all the positive prediction were correct. The [recall](#Precision,-Recall,-and-F1-Score) was 71%, which represents the number of times the model was able to detect positive sentiment. Overall, the model is right 85% of the time with the positive sentiment predictions, but is only able to find 71% of positive sentiment (Bruce et al., 2020, p. 222).\n",
    "\n",
    "  A single metric that can represent this balance between recall and precision is the [F1 score](#Precision,-Recall,-and-F1-Score). Values closer to 1 represent a well-balanced model. This model had an F1 of 0.77, indicating a moderately well performing model.\n",
    "\n"
   ],
   "id": "a3ae5ca692b05640"
  },
  {
   "metadata": {
    "ExecuteTime": {
     "end_time": "2025-02-27T21:15:09.906690Z",
     "start_time": "2025-02-27T21:15:09.903837Z"
    }
   },
   "cell_type": "code",
   "source": "check_overfitting(history1)",
   "id": "371c717e2f2b65b0",
   "outputs": [
    {
     "name": "stdout",
     "output_type": "stream",
     "text": [
      "\n",
      "Final Metrics:\n",
      "Training Accuracy: 0.908\n",
      "Validation Accuracy: 0.793\n",
      "Training Loss: 0.335\n",
      "Validation Loss: 0.511\n",
      "\n",
      "Overfitting:\n",
      "Generalization Gap: 0.114 (11.4%)\n",
      "Best Epoch: 9\n"
     ]
    }
   ],
   "execution_count": 46
  },
  {
   "metadata": {},
   "cell_type": "markdown",
   "source": "###### Final Model Training Visualization",
   "id": "ba9e4c3f5edc7d21"
  },
  {
   "metadata": {
    "ExecuteTime": {
     "end_time": "2025-02-27T21:15:14.964573Z",
     "start_time": "2025-02-27T21:15:14.730156Z"
    }
   },
   "cell_type": "code",
   "source": "fit_overfit(history1, 10)",
   "id": "6ab0d46102c5d5bb",
   "outputs": [
    {
     "data": {
      "text/plain": [
       "<Figure size 1000x500 with 1 Axes>"
      ],
      "image/png": "[encoded data removed]"
     },
     "metadata": {},
     "output_type": "display_data"
    },
    {
     "data": {
      "text/plain": [
       "<Figure size 1000x500 with 1 Axes>"
      ],
      "image/png": "[encoded data removed]"
     },
     "metadata": {},
     "output_type": "display_data"
    }
   ],
   "execution_count": 47
  },
  {
   "metadata": {},
   "cell_type": "markdown",
   "source": [
    "###### Predictive accuracy\n",
    "The model was fit on the test data to evaluate the accuracy of predictions"
   ],
   "id": "7b32bb2bd7d79ea4"
  },
  {
   "metadata": {
    "ExecuteTime": {
     "end_time": "2025-02-27T21:15:21.970302Z",
     "start_time": "2025-02-27T21:15:21.889422Z"
    }
   },
   "cell_type": "code",
   "source": [
    "# Evaluate the model\n",
    "loss, accuracy = model1.evaluate(X_test, y_test)\n",
    "print(f'Test Accuracy: {accuracy:.3f}')\n",
    "print(f'Test Loss: {loss:.3f}')"
   ],
   "id": "92699a3b70586eb6",
   "outputs": [
    {
     "name": "stdout",
     "output_type": "stream",
     "text": [
      "10/10 [==============================] - 0s 5ms/step - loss: 0.4969 - accuracy: 0.7700\n",
      "Test Accuracy: 0.770\n",
      "Test Loss: 0.497\n"
     ]
    }
   ],
   "execution_count": 48
  },
  {
   "metadata": {},
   "cell_type": "markdown",
   "source": "###### Confusion Matrix",
   "id": "8f4bb14aaaee56c7"
  },
  {
   "metadata": {
    "ExecuteTime": {
     "end_time": "2025-02-27T21:15:30.902353Z",
     "start_time": "2025-02-27T21:15:30.650954Z"
    }
   },
   "cell_type": "code",
   "source": [
    "# Make predictions\n",
    "predictions = model1.predict(X_test)\n",
    "predictions = (predictions > 0.5).astype(int)  # For binary classification\n",
    "\n",
    "# Create confusion matrix\n",
    "classes = np.unique(y_test)\n",
    "cm = confusion_matrix(y_test, predictions, labels=classes)\n",
    "plt.figure(figsize=(8, 6))\n",
    "sns.heatmap(cm,\n",
    "            annot=True,\n",
    "            fmt='d',\n",
    "            cmap='Blues',\n",
    "            xticklabels=classes,\n",
    "            yticklabels=classes,\n",
    "            cbar=True)\n",
    "\n",
    "# Add labels\n",
    "n_classes = len(classes)\n",
    "\n",
    "for i in range(n_classes):\n",
    "    for j in range(n_classes):\n",
    "        text = plt.gca().texts[i * n_classes + j]\n",
    "        value = text.get_text()\n",
    "        if i == j:\n",
    "            text.set_text(f'{value}\\nTrue Pos' if i == 0 else f'{value}\\nTrue Neg')\n",
    "        else:\n",
    "            text.set_text(f'{value}\\nFalse Pos' if i == 0 else f'{value}\\nFalse Neg')\n",
    "\n",
    "plt.title('Confusion Matrix')\n",
    "plt.xlabel('Predicted Response')\n",
    "plt.ylabel('True Response')\n",
    "plt.tight_layout()\n",
    "plt.show()"
   ],
   "id": "c14dd93e65c312f6",
   "outputs": [
    {
     "name": "stdout",
     "output_type": "stream",
     "text": [
      "10/10 [==============================] - 0s 4ms/step\n"
     ]
    },
    {
     "data": {
      "text/plain": [
       "<Figure size 800x600 with 2 Axes>"
      ],
      "image/png": "[encoded data removed]"
     },
     "metadata": {},
     "output_type": "display_data"
    }
   ],
   "execution_count": 49
  },
  {
   "metadata": {},
   "cell_type": "markdown",
   "source": "###### Precision, Recall, and F1 Score",
   "id": "b02d080bc2b79333"
  },
  {
   "metadata": {
    "ExecuteTime": {
     "end_time": "2025-02-27T21:15:36.089009Z",
     "start_time": "2025-02-27T21:15:36.082806Z"
    }
   },
   "cell_type": "code",
   "source": [
    "from sklearn.metrics import precision_score, recall_score, f1_score\n",
    "# Further evaluation of the model using precision, recall and F!\n",
    "precision = precision_score(y_test, predictions)\n",
    "recall = recall_score(y_test, predictions)\n",
    "f1 = f1_score(y_test, predictions)\n",
    "\n",
    "print(f\"Precision: {precision:.3f}\")\n",
    "print(f\"Recall: {recall:.3f}\")\n",
    "print(f\"F1 Score: {f1:.3f}\")"
   ],
   "id": "bd268a4b976628a3",
   "outputs": [
    {
     "name": "stdout",
     "output_type": "stream",
     "text": [
      "Precision: 0.847\n",
      "Recall: 0.707\n",
      "F1 Score: 0.771\n"
     ]
    }
   ],
   "execution_count": 50
  },
  {
   "metadata": {},
   "cell_type": "markdown",
   "source": [
    "## Part V: Summary\n",
    "--------------------------"
   ],
   "id": "5c76bf770ba69def"
  },
  {
   "metadata": {},
   "cell_type": "markdown",
   "source": [
    "### E : Code\n",
    "The final model was saved and can be found in the PA submission as PBier_task2.h5 ."
   ],
   "id": "bee125765f273d83"
  },
  {
   "metadata": {
    "ExecuteTime": {
     "end_time": "2025-02-27T21:15:43.535663Z",
     "start_time": "2025-02-27T21:15:43.512541Z"
    }
   },
   "cell_type": "code",
   "source": [
    "# Save Model\n",
    "model1.save('PBier_task2.h5')"
   ],
   "id": "bec70872cc9b344",
   "outputs": [],
   "execution_count": 51
  },
  {
   "metadata": {},
   "cell_type": "markdown",
   "source": [
    "### F: Functionality\n",
    "\n",
    "The functionality of the final NN model was successful with the final accuracy of 77%. The initial model with the training and validation data had [better accuracy](#Accuracy-Comparison) rates, although the first model appeared to have overfitting problems. The final model had the same number of layers, but had a large increase in the number of trainable parameters, a jump from 77,881 to 225,327, which may have overcomplicated the model, leading to the lower accuracy. The `model.summary()` in the cell below shows the new parameter values for the final model.\n",
    "\n",
    "The network architecture was built in such a way as to help with overfitting. The GlobalAveragePooling layer was included to reduce the sequence dimension, as well as including two dropout layers, which can help with the overfitting problem often encountered. Building optimizers can help with hyperparameters, but the number and types of hidden layers is a trial an error process that can take a large amount of time to narrow down the best structure for a NN. Despite efforts to include layers that help reduce complexity, the number of layers themselves may have been contributing to the lower accuracy and overfitting of the model.\n",
    "\n",
    "Final model architecture:\n",
    "\n",
    "1. Embedding layer: 154,462 parameters\n",
    "\n",
    "2. Masking layer\n",
    "\n",
    "3. Bidirectional LSTM layer: 66,000 parameters, Swish activation\n",
    "\n",
    "4. GlobalAveragePooling1D layer\n",
    "\n",
    "5. Dropout layer\n",
    "\n",
    "6. Dense layer: 4,832 parameters, L2 Regularizer, Swish activation\n",
    "\n",
    "7. Dropout layer\n",
    "\n",
    "8. Dense layer: 33 parameters, Sigmoid Activation\n",
    "\n",
    "Total parameters: 225,327 (all trainable)\n"
   ],
   "id": "f5f2e073aa4bd979"
  },
  {
   "metadata": {
    "ExecuteTime": {
     "end_time": "2025-02-27T21:15:48.049923Z",
     "start_time": "2025-02-27T21:15:48.040698Z"
    }
   },
   "cell_type": "code",
   "source": "model1.summary()",
   "id": "c1ddc62bde42763a",
   "outputs": [
    {
     "name": "stdout",
     "output_type": "stream",
     "text": [
      "Model: \"sequential\"\n",
      "_________________________________________________________________\n",
      " Layer (type)                Output Shape              Param #   \n",
      "=================================================================\n",
      " embedding (Embedding)       (None, 44, 34)            154462    \n",
      "                                                                 \n",
      " bidirectional (Bidirectiona  (None, 44, 150)          66000     \n",
      " l)                                                              \n",
      "                                                                 \n",
      " global_average_pooling1d (G  (None, 150)              0         \n",
      " lobalAveragePooling1D)                                          \n",
      "                                                                 \n",
      " dropout (Dropout)           (None, 150)               0         \n",
      "                                                                 \n",
      " dense (Dense)               (None, 32)                4832      \n",
      "                                                                 \n",
      " dropout_1 (Dropout)         (None, 32)                0         \n",
      "                                                                 \n",
      " dense_1 (Dense)             (None, 1)                 33        \n",
      "                                                                 \n",
      "=================================================================\n",
      "Total params: 225,327\n",
      "Trainable params: 225,327\n",
      "Non-trainable params: 0\n",
      "_________________________________________________________________\n"
     ]
    }
   ],
   "execution_count": 52
  },
  {
   "metadata": {},
   "cell_type": "markdown",
   "source": "##### Accuracy Comparison",
   "id": "bd0c05804622a52"
  },
  {
   "metadata": {},
   "cell_type": "code",
   "source": [
    "# Compare accuracies\n",
    "final_train_acc = history.history['accuracy'][-1]\n",
    "final_val_acc = history.history['val_accuracy'][-1]\n",
    "test_acc = accuracy\n",
    "# Create bar plot\n",
    "plt.figure(figsize=(10, 6))\n",
    "colors = ['#2ecc71', '#3498db', '#e74c3c']  # Green, Blue, Red\n",
    "bars = plt.bar(['Training', 'Validation', 'Test'],\n",
    "        [final_train_acc, final_val_acc, test_acc],\n",
    "        color=colors)\n",
    "plt.title('Model Accuracy Comparison', fontsize=14, pad=20)\n",
    "plt.ylabel('Accuracy', fontsize=12)\n",
    "plt.grid(axis='y', linestyle='--', alpha=0.7)\n",
    "plt.ylim(0, 1)\n",
    "\n",
    "for bar in bars:\n",
    "    height = bar.get_height()\n",
    "    plt.text(bar.get_x() + bar.get_width()/2., height,\n",
    "             f'{height:.1%}',\n",
    "             ha='center', va='bottom')\n",
    "\n",
    "plt.show()"
   ],
   "id": "6b4b551a3f67d612",
   "outputs": [],
   "execution_count": null
  },
  {
   "metadata": {},
   "cell_type": "markdown",
   "source": [
    "### G: Recommendations\n",
    "\n",
    "While the current model shows promise with 77% accuracy, creating a more reliable tool to identify customer satisfaction trends should be prioritized over rolling out a model that is not fully reliable. There are several recommendations that could create a highly reliable model that would accurately detect customer sentiment.\n",
    "\n",
    "The first would be to gather more data for training. The smaller amount of data, only 3,000 rows, may have been a large cause of the overfitting seen in both the primary and final model. Smaller data sets can hinder the learning process because the model will just memorize the information, rather than learning from it.\n",
    "\n",
    "A second recommendation would be to tune the learning rate. As seen [here](#Parameter-Importance), the learning rate had the most influence on the outcome of this model, and is known to have a strong influence on the outcomes of neural networks (Preferred Networks, Inc., 2024).\n",
    "\n",
    "Changing the hidden layers to find an improved accuracy rate would also be recommended, although this is time intensive, since with each change in the model architecture, the hyperparameters will have to be re-optimized. There is no computationally efficient way to determine the number and types of layers to include in a NN.\n",
    "\n",
    "Once these changes achieve a higher accuracy rate, businesses could implement the NLP BiLSTM model to automatically identify negative customer reviews, which could be rapidly addressed in an attempt to improve customer satisfaction."
   ],
   "id": "6bcab64d2abb6e01"
  },
  {
   "metadata": {},
   "cell_type": "markdown",
   "source": "###### Parameter Importance",
   "id": "9e9c82bb5d9ac120"
  },
  {
   "metadata": {
    "ExecuteTime": {
     "end_time": "2025-02-27T21:24:39.424982Z",
     "start_time": "2025-02-27T21:24:38.863024Z"
    }
   },
   "cell_type": "code",
   "source": [
    "# Parameter importance\n",
    "importances = optuna.importance.get_param_importances(study)\n",
    "plt.figure(figsize=(10, 6))\n",
    "params = list(importances.keys())\n",
    "values = list(importances.values())\n",
    "plt.barh(params, values)\n",
    "plt.xlabel('Importance')\n",
    "plt.title('Parameter Importance')\n",
    "plt.tight_layout()\n",
    "plt.show()\n"
   ],
   "id": "631bc4eaa3e35e87",
   "outputs": [
    {
     "data": {
      "text/plain": [
       "<Figure size 1000x600 with 1 Axes>"
      ],
      "image/png": "[encoded data removed]"
     },
     "metadata": {},
     "output_type": "display_data"
    }
   ],
   "execution_count": 53
  },
  {
   "metadata": {},
   "cell_type": "markdown",
   "source": [
    "## Part VI: Reporting\n",
    "---------------------------------"
   ],
   "id": "c1a7c5a5be802df9"
  },
  {
   "metadata": {},
   "cell_type": "markdown",
   "source": [
    "### H: Executed Code\n",
    "All code has been executed in the Jupyter notebook. A copy of this presentation will be saved in both HTML and PDF format for submission to the PA."
   ],
   "id": "ed284bd40013f3f6"
  },
  {
   "metadata": {},
   "cell_type": "markdown",
   "source": [
    "### I: Web Sources\n",
    "Akinremi, B. (2024, August 7). Optuna for Deep Reinforcement Learning in Python. DataCamp. Retrieved February 15, 2025, from https://www.datacamp.com/tutorial/optuna\n",
    "\n",
    "Ali, M. (2024, September 12). Introduction to Activation Functions in Neural Networks. DataCamp. Retrieved February 1, 2025, from https://www.datacamp.com/tutorial/introduction-to-activation-functions-in-neural-networks\n",
    "\n",
    "Boros, G. (2023, August 16). Do you know overfitting and underfitting? Medium. Retrieved February 15, 2025, from https://medium.com/@datascienceeurope/do-you-know-overfitting-and-underfitting-f27f87ac2f37\n",
    "\n",
    "Baheti, P. (2021, September 13). Train Test Validation Split: How To & Best Practices. V7. Retrieved February 1, 2025, from https://www.v7labs.com/blog/train-validation-test-set\n",
    "\n",
    "Brownlee, J. (2019, August 6). A Gentle Introduction to Early Stopping to Avoid Overtraining Neural Networks. Machine Learning Mastery. Retrieved February 1, 2025, from https://machinelearningmastery.com/early-stopping-to-avoid-overtraining-neural-network-models/\n",
    "\n",
    "Brownlee, J. (2019, August 6). How to Configure the Learning Rate When Training Deep Learning Neural Networks. Machine Learning Mastery. Retrieved February 1, 2025, from https://machinelearningmastery.com/learning-rate-for-deep-learning-neural-networks/\n",
    "\n",
    "Caner (2020, April 2). Padding for NLP. Medium. Retrieved February 1, 2025, from https://medium.com/@canerkilinc/padding-for-nlp-7dd8598c916a\n",
    "\n",
    "Google (2017, November 20). Introducing TensorFlow Feature Columns. Google for Developers. Retrieved February 1, 2025, from https://developers.googleblog.com/en/introducing-tensorflow-feature-columns/\n",
    "\n",
    "Kotzias, D. (2015). Sentiment Labelled Sentences [Dataset]. UCI Machine Learning Repository. https://doi.org/10.24432/C57604\n",
    "\n",
    "Preferred Networks, Inc. (2024). Optuna - A hyperparameter optimization framework. Optuna. Retrieved February 15, 2025, from https://optuna.org/\n",
    "\n",
    "Mayo, M. (2023, August 1). Mastering Regular Expressions with Python. KDnuggets. Retrieved February 1, 1025, from https://www.kdnuggets.com/2023/08/mastering-regular-expressions-python.html\n",
    "\n",
    "Restack (2025, January 1). Lstm Hyperparameter Tuning Optuna. Retrieved February 1, 2025, from https://www.restack.io/p/hyperparameter-tuning-answer-lstm-optuna-cat-ai\n",
    "\n",
    "Sagar, A. (2019, December 6). 5 Techniques to Prevent Overfitting in Neural Networks. KDNuggets. Retrieved February 15, 2025, from https://www.kdnuggets.com/2019/12/5-techniques-prevent-overfitting-neural-networks.html\n",
    "\n",
    "Sanchhaya (2024, May 27). Binary Cross Entropy/Log Loss for Binary Classification. Geeks for Geeks. Retrieved February 1, 2025, from https://www.geeksforgeeks.org/binary-cross-entropy-log-loss-for-binary-classification/\n",
    "\n",
    "Saxena, S. (2024, December 30). What is LSTM? Introduction to Long Short-Term Memory. Analytics Vidhya. Retrieved February 1, 2025, from https://www.analyticsvidhya.com/blog/2021/03/introduction-to-long-short-term-memory-lstm/#h-what-are-bidirectional-lstms\n",
    "\n",
    "Wei, D. (2024, January 30). Demystifying the Adam Optimizer in Machine Learning. Medium. Retrieved February 1, 2025, from https://medium.com/@weidagang/demystifying-the-adam-optimizer-in-machine-learning-4401d162cb9e\n",
    "\n",
    "Zhang, A., Lipton, Z. C., Li, M., & Smola, A. J. (2023). Dive into Deep Learning. Cambridge University Press. Retrieved February 1, 2025 from https://d2l.ai/chapter_multilayer-perceptrons/generalization-deep.html\n"
   ],
   "id": "efc4ab5047eb470f"
  },
  {
   "metadata": {},
   "cell_type": "markdown",
   "source": [
    "### J: Sources\n",
    "\n",
    "Bird, S., Klein, E., & Loper, E. (2009). Natural Language Processing with Python. O'Reilly.\n",
    "\n",
    "Bruce, P., Bruce, A., & Gedeck, P. (2020). Practical Statistics for Data Scientists (p. 222). O'Reilly.\n",
    "\n",
    "Vajjala, S., Majumder, B., Gupta, A., & Surana, H. (2020). Practical Natural Language Processing. O'Reilly.\n"
   ],
   "id": "88a5db173ea6dec9"
  }
 ],
 "metadata": {
  "kernelspec": {
   "display_name": "Python 3",
   "language": "python",
   "name": "python3"
  },
  "language_info": {
   "codemirror_mode": {
    "name": "ipython",
    "version": 2
   },
   "file_extension": ".py",
   "mimetype": "text/x-python",
   "name": "python",
   "nbconvert_exporter": "python",
   "pygments_lexer": "ipython2",
   "version": "2.7.6"
  }
 },
 "nbformat": 4,
 "nbformat_minor": 5
}
